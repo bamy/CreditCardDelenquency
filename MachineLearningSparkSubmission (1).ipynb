{
 "cells": [
  {
   "cell_type": "code",
   "execution_count": 1,
   "metadata": {},
   "outputs": [],
   "source": [
    "import os\n",
    "import sys\n",
    "# Here you need to have same Python version on your local machine adn on worker node i.e. EC2. here both should have python3.\n",
    "os.environ[\"PYSPARK_PYTHON\"] = \"/bin/python3\"\n",
    "os.environ[\"JAVA_HOME\"] = \"/usr/java/jdk1.8.0_161/jre\"\n",
    "os.environ[\"SPARK_HOME\"] = \"/home/ec2-user/spark-2.4.4-bin-hadoop2.7\"\n",
    "os.environ[\"PYLIB\"] = os.environ[\"SPARK_HOME\"] + \"/python/lib\"\n",
    "sys.path.insert(0, os.environ[\"PYLIB\"] + \"/py4j-0.10.7-src.zip\")\n",
    "sys.path.insert(0, os.environ[\"PYLIB\"] + \"/pyspark.zip\")"
   ]
  },
  {
   "cell_type": "code",
   "execution_count": 2,
   "metadata": {},
   "outputs": [],
   "source": [
    "from pyspark.sql import SparkSession\n",
    "spark = SparkSession.builder.appName('CTR').getOrCreate()"
   ]
  },
  {
   "cell_type": "code",
   "execution_count": 3,
   "metadata": {},
   "outputs": [
    {
     "name": "stdout",
     "output_type": "stream",
     "text": [
      "--2020-10-04 18:33:04--  https://s3.amazonaws.com/sqoop.oozie.ml/credit_record.csv\n",
      "Resolving s3.amazonaws.com (s3.amazonaws.com)... 52.216.138.205\n",
      "Connecting to s3.amazonaws.com (s3.amazonaws.com)|52.216.138.205|:443... connected.\n",
      "HTTP request sent, awaiting response... 200 OK\n",
      "Length: 15367102 (15M) [text/csv]\n",
      "Saving to: ‘credit_record.csv.3’\n",
      "\n",
      "100%[======================================>] 15,367,102  --.-K/s   in 0.1s    \n",
      "\n",
      "2020-10-04 18:33:05 (106 MB/s) - ‘credit_record.csv.3’ saved [15367102/15367102]\n",
      "\n"
     ]
    }
   ],
   "source": [
    "!wget https://s3.amazonaws.com/sqoop.oozie.ml/credit_record.csv"
   ]
  },
  {
   "cell_type": "code",
   "execution_count": 4,
   "metadata": {},
   "outputs": [
    {
     "name": "stdout",
     "output_type": "stream",
     "text": [
      "--2020-10-04 18:33:05--  https://s3.amazonaws.com/sqoop.oozie.ml/application_record.csv\n",
      "Resolving s3.amazonaws.com (s3.amazonaws.com)... 52.216.138.205\n",
      "Connecting to s3.amazonaws.com (s3.amazonaws.com)|52.216.138.205|:443... connected.\n",
      "HTTP request sent, awaiting response... 200 OK\n",
      "Length: 54342959 (52M) [text/csv]\n",
      "Saving to: ‘application_record.csv.1’\n",
      "\n",
      "100%[======================================>] 54,342,959  76.1MB/s   in 0.7s   \n",
      "\n",
      "2020-10-04 18:33:06 (76.1 MB/s) - ‘application_record.csv.1’ saved [54342959/54342959]\n",
      "\n"
     ]
    }
   ],
   "source": [
    "!wget https://s3.amazonaws.com/sqoop.oozie.ml/application_record.csv"
   ]
  },
  {
   "cell_type": "code",
   "execution_count": 3,
   "metadata": {},
   "outputs": [],
   "source": [
    "ar = spark.read.csv(\"application_record.csv\", inferSchema=True, header=True)"
   ]
  },
  {
   "cell_type": "code",
   "execution_count": 4,
   "metadata": {},
   "outputs": [
    {
     "name": "stdout",
     "output_type": "stream",
     "text": [
      "+-------+-----------+------------+---------------+------------+----------------+--------------------+--------------------+--------------------+-----------------+----------+-------------+----------+---------------+----------+----------+---------------+---------------+\n",
      "|     ID|CODE_GENDER|FLAG_OWN_CAR|FLAG_OWN_REALTY|CNT_CHILDREN|AMT_INCOME_TOTAL|    NAME_INCOME_TYPE| NAME_EDUCATION_TYPE|  NAME_FAMILY_STATUS|NAME_HOUSING_TYPE|DAYS_BIRTH|DAYS_EMPLOYED|FLAG_MOBIL|FLAG_WORK_PHONE|FLAG_PHONE|FLAG_EMAIL|OCCUPATION_TYPE|CNT_FAM_MEMBERS|\n",
      "+-------+-----------+------------+---------------+------------+----------------+--------------------+--------------------+--------------------+-----------------+----------+-------------+----------+---------------+----------+----------+---------------+---------------+\n",
      "|5008804|          M|           Y|              Y|           0|        427500.0|             Working|    Higher education|      Civil marriage| Rented apartment|    -12005|        -4542|         1|              1|         0|         0|           null|            2.0|\n",
      "|5008805|          M|           Y|              Y|           0|        427500.0|             Working|    Higher education|      Civil marriage| Rented apartment|    -12005|        -4542|         1|              1|         0|         0|           null|            2.0|\n",
      "|5008806|          M|           Y|              Y|           0|        112500.0|             Working|Secondary / secon...|             Married|House / apartment|    -21474|        -1134|         1|              0|         0|         0| Security staff|            2.0|\n",
      "|5008808|          F|           N|              Y|           0|        270000.0|Commercial associate|Secondary / secon...|Single / not married|House / apartment|    -19110|        -3051|         1|              0|         1|         1|    Sales staff|            1.0|\n",
      "|5008809|          F|           N|              Y|           0|        270000.0|Commercial associate|Secondary / secon...|Single / not married|House / apartment|    -19110|        -3051|         1|              0|         1|         1|    Sales staff|            1.0|\n",
      "|5008810|          F|           N|              Y|           0|        270000.0|Commercial associate|Secondary / secon...|Single / not married|House / apartment|    -19110|        -3051|         1|              0|         1|         1|    Sales staff|            1.0|\n",
      "|5008811|          F|           N|              Y|           0|        270000.0|Commercial associate|Secondary / secon...|Single / not married|House / apartment|    -19110|        -3051|         1|              0|         1|         1|    Sales staff|            1.0|\n",
      "|5008812|          F|           N|              Y|           0|        283500.0|           Pensioner|    Higher education|           Separated|House / apartment|    -22464|       365243|         1|              0|         0|         0|           null|            1.0|\n",
      "|5008813|          F|           N|              Y|           0|        283500.0|           Pensioner|    Higher education|           Separated|House / apartment|    -22464|       365243|         1|              0|         0|         0|           null|            1.0|\n",
      "|5008814|          F|           N|              Y|           0|        283500.0|           Pensioner|    Higher education|           Separated|House / apartment|    -22464|       365243|         1|              0|         0|         0|           null|            1.0|\n",
      "|5008815|          M|           Y|              Y|           0|        270000.0|             Working|    Higher education|             Married|House / apartment|    -16872|         -769|         1|              1|         1|         1|    Accountants|            2.0|\n",
      "|5112956|          M|           Y|              Y|           0|        270000.0|             Working|    Higher education|             Married|House / apartment|    -16872|         -769|         1|              1|         1|         1|    Accountants|            2.0|\n",
      "|6153651|          M|           Y|              Y|           0|        270000.0|             Working|    Higher education|             Married|House / apartment|    -16872|         -769|         1|              1|         1|         1|    Accountants|            2.0|\n",
      "|5008819|          M|           Y|              Y|           0|        135000.0|Commercial associate|Secondary / secon...|             Married|House / apartment|    -17778|        -1194|         1|              0|         0|         0|       Laborers|            2.0|\n",
      "|5008820|          M|           Y|              Y|           0|        135000.0|Commercial associate|Secondary / secon...|             Married|House / apartment|    -17778|        -1194|         1|              0|         0|         0|       Laborers|            2.0|\n",
      "|5008821|          M|           Y|              Y|           0|        135000.0|Commercial associate|Secondary / secon...|             Married|House / apartment|    -17778|        -1194|         1|              0|         0|         0|       Laborers|            2.0|\n",
      "|5008822|          M|           Y|              Y|           0|        135000.0|Commercial associate|Secondary / secon...|             Married|House / apartment|    -17778|        -1194|         1|              0|         0|         0|       Laborers|            2.0|\n",
      "|5008823|          M|           Y|              Y|           0|        135000.0|Commercial associate|Secondary / secon...|             Married|House / apartment|    -17778|        -1194|         1|              0|         0|         0|       Laborers|            2.0|\n",
      "|5008824|          M|           Y|              Y|           0|        135000.0|Commercial associate|Secondary / secon...|             Married|House / apartment|    -17778|        -1194|         1|              0|         0|         0|       Laborers|            2.0|\n",
      "|5008825|          F|           Y|              N|           0|        130500.0|             Working|   Incomplete higher|             Married|House / apartment|    -10669|        -1103|         1|              0|         0|         0|    Accountants|            2.0|\n",
      "+-------+-----------+------------+---------------+------------+----------------+--------------------+--------------------+--------------------+-----------------+----------+-------------+----------+---------------+----------+----------+---------------+---------------+\n",
      "only showing top 20 rows\n",
      "\n"
     ]
    }
   ],
   "source": [
    "ar.show()"
   ]
  },
  {
   "cell_type": "code",
   "execution_count": 5,
   "metadata": {},
   "outputs": [
    {
     "name": "stdout",
     "output_type": "stream",
     "text": [
      "root\n",
      " |-- ID: integer (nullable = true)\n",
      " |-- CODE_GENDER: string (nullable = true)\n",
      " |-- FLAG_OWN_CAR: string (nullable = true)\n",
      " |-- FLAG_OWN_REALTY: string (nullable = true)\n",
      " |-- CNT_CHILDREN: integer (nullable = true)\n",
      " |-- AMT_INCOME_TOTAL: double (nullable = true)\n",
      " |-- NAME_INCOME_TYPE: string (nullable = true)\n",
      " |-- NAME_EDUCATION_TYPE: string (nullable = true)\n",
      " |-- NAME_FAMILY_STATUS: string (nullable = true)\n",
      " |-- NAME_HOUSING_TYPE: string (nullable = true)\n",
      " |-- DAYS_BIRTH: integer (nullable = true)\n",
      " |-- DAYS_EMPLOYED: integer (nullable = true)\n",
      " |-- FLAG_MOBIL: integer (nullable = true)\n",
      " |-- FLAG_WORK_PHONE: integer (nullable = true)\n",
      " |-- FLAG_PHONE: integer (nullable = true)\n",
      " |-- FLAG_EMAIL: integer (nullable = true)\n",
      " |-- OCCUPATION_TYPE: string (nullable = true)\n",
      " |-- CNT_FAM_MEMBERS: double (nullable = true)\n",
      "\n"
     ]
    }
   ],
   "source": [
    "ar.printSchema()"
   ]
  },
  {
   "cell_type": "markdown",
   "metadata": {},
   "source": [
    "## 1. What is the proportion of females in the applicant customer base?"
   ]
  },
  {
   "cell_type": "code",
   "execution_count": 6,
   "metadata": {},
   "outputs": [
    {
     "data": {
      "text/plain": [
       "['ID',\n",
       " 'CODE_GENDER',\n",
       " 'FLAG_OWN_CAR',\n",
       " 'FLAG_OWN_REALTY',\n",
       " 'CNT_CHILDREN',\n",
       " 'AMT_INCOME_TOTAL',\n",
       " 'NAME_INCOME_TYPE',\n",
       " 'NAME_EDUCATION_TYPE',\n",
       " 'NAME_FAMILY_STATUS',\n",
       " 'NAME_HOUSING_TYPE',\n",
       " 'DAYS_BIRTH',\n",
       " 'DAYS_EMPLOYED',\n",
       " 'FLAG_MOBIL',\n",
       " 'FLAG_WORK_PHONE',\n",
       " 'FLAG_PHONE',\n",
       " 'FLAG_EMAIL',\n",
       " 'OCCUPATION_TYPE',\n",
       " 'CNT_FAM_MEMBERS']"
      ]
     },
     "execution_count": 6,
     "metadata": {},
     "output_type": "execute_result"
    }
   ],
   "source": [
    "ar.columns"
   ]
  },
  {
   "cell_type": "code",
   "execution_count": 7,
   "metadata": {},
   "outputs": [
    {
     "data": {
      "text/plain": [
       "0.6713836513839706"
      ]
     },
     "execution_count": 7,
     "metadata": {},
     "output_type": "execute_result"
    }
   ],
   "source": [
    "#for female\n",
    "ar.filter(ar.CODE_GENDER == 'F').count() / ar.count()"
   ]
  },
  {
   "cell_type": "code",
   "execution_count": 8,
   "metadata": {},
   "outputs": [
    {
     "data": {
      "text/plain": [
       "0.3286163486160294"
      ]
     },
     "execution_count": 8,
     "metadata": {},
     "output_type": "execute_result"
    }
   ],
   "source": [
    "#for male\n",
    "ar.filter(ar.CODE_GENDER == 'M').count() / ar.count()"
   ]
  },
  {
   "cell_type": "markdown",
   "metadata": {},
   "source": [
    "## 2. Is house ownership higher among male applicants or female applicants"
   ]
  },
  {
   "cell_type": "code",
   "execution_count": 9,
   "metadata": {},
   "outputs": [
    {
     "data": {
      "text/plain": [
       "0.4745973727474422"
      ]
     },
     "execution_count": 9,
     "metadata": {},
     "output_type": "execute_result"
    }
   ],
   "source": [
    "\n",
    "#for female\n",
    "ar.filter((ar.CODE_GENDER == 'F') & (ar.FLAG_OWN_REALTY == 'Y')).count() / ar.count()"
   ]
  },
  {
   "cell_type": "code",
   "execution_count": 10,
   "metadata": {},
   "outputs": [
    {
     "data": {
      "text/plain": [
       "0.21875377659004416"
      ]
     },
     "execution_count": 10,
     "metadata": {},
     "output_type": "execute_result"
    }
   ],
   "source": [
    "#for male\n",
    "ar.filter((ar.CODE_GENDER == 'M') & (ar.FLAG_OWN_REALTY == 'Y')).count() / ar.count()"
   ]
  },
  {
   "cell_type": "code",
   "execution_count": 11,
   "metadata": {},
   "outputs": [],
   "source": [
    "# So female applicant has higher ownship"
   ]
  },
  {
   "cell_type": "code",
   "execution_count": 12,
   "metadata": {},
   "outputs": [],
   "source": [
    "#function to "
   ]
  },
  {
   "cell_type": "code",
   "execution_count": 13,
   "metadata": {},
   "outputs": [],
   "source": [
    "from pyspark.sql.functions import when\n",
    "#create a new column\n",
    "#convert education ordinal feature as increasing numerically if education increases\n",
    "ar = ar.withColumn('EDUCATION_LEVEL', when(ar.NAME_EDUCATION_TYPE == 'Lower secondary', 1)\\\n",
    "              .otherwise(when(ar.NAME_EDUCATION_TYPE == 'Secondary / secondary special', 2)\\\n",
    "                         .otherwise(when(ar.NAME_EDUCATION_TYPE == 'Incomplete higher', 3)\\\n",
    "                                    .otherwise(when(ar.NAME_EDUCATION_TYPE == 'Higher education', 4)\\\n",
    "                                              .otherwise(5)))))"
   ]
  },
  {
   "cell_type": "code",
   "execution_count": 14,
   "metadata": {},
   "outputs": [],
   "source": [
    "ar = ar.drop('NAME_EDUCATION_TYPE')"
   ]
  },
  {
   "cell_type": "code",
   "execution_count": 15,
   "metadata": {},
   "outputs": [
    {
     "data": {
      "text/plain": [
       "Row(ID=5008804, CODE_GENDER='M', FLAG_OWN_CAR='Y', FLAG_OWN_REALTY='Y', CNT_CHILDREN=0, AMT_INCOME_TOTAL=427500.0, NAME_INCOME_TYPE='Working', NAME_FAMILY_STATUS='Civil marriage', NAME_HOUSING_TYPE='Rented apartment', DAYS_BIRTH=-12005, DAYS_EMPLOYED=-4542, FLAG_MOBIL=1, FLAG_WORK_PHONE=1, FLAG_PHONE=0, FLAG_EMAIL=0, OCCUPATION_TYPE=None, CNT_FAM_MEMBERS=2.0, EDUCATION_LEVEL=4)"
      ]
     },
     "execution_count": 15,
     "metadata": {},
     "output_type": "execute_result"
    }
   ],
   "source": [
    "ar.head()"
   ]
  },
  {
   "cell_type": "code",
   "execution_count": 16,
   "metadata": {},
   "outputs": [
    {
     "name": "stdout",
     "output_type": "stream",
     "text": [
      "+---------------+\n",
      "|EDUCATION_LEVEL|\n",
      "+---------------+\n",
      "|              1|\n",
      "|              3|\n",
      "|              5|\n",
      "|              4|\n",
      "|              2|\n",
      "+---------------+\n",
      "\n"
     ]
    }
   ],
   "source": [
    "ar.select('EDUCATION_LEVEL').distinct().show()"
   ]
  },
  {
   "cell_type": "markdown",
   "metadata": {},
   "source": [
    "### 3. Is there any correlation between income levels and education level?"
   ]
  },
  {
   "cell_type": "code",
   "execution_count": 17,
   "metadata": {},
   "outputs": [],
   "source": [
    "ar_pd = ar.toPandas()"
   ]
  },
  {
   "cell_type": "code",
   "execution_count": 18,
   "metadata": {},
   "outputs": [
    {
     "data": {
      "text/html": [
       "<div>\n",
       "<style scoped>\n",
       "    .dataframe tbody tr th:only-of-type {\n",
       "        vertical-align: middle;\n",
       "    }\n",
       "\n",
       "    .dataframe tbody tr th {\n",
       "        vertical-align: top;\n",
       "    }\n",
       "\n",
       "    .dataframe thead th {\n",
       "        text-align: right;\n",
       "    }\n",
       "</style>\n",
       "<table border=\"1\" class=\"dataframe\">\n",
       "  <thead>\n",
       "    <tr style=\"text-align: right;\">\n",
       "      <th></th>\n",
       "      <th>EDUCATION_LEVEL</th>\n",
       "      <th>AMT_INCOME_TOTAL</th>\n",
       "    </tr>\n",
       "  </thead>\n",
       "  <tbody>\n",
       "    <tr>\n",
       "      <th>EDUCATION_LEVEL</th>\n",
       "      <td>1.000000</td>\n",
       "      <td>0.221403</td>\n",
       "    </tr>\n",
       "    <tr>\n",
       "      <th>AMT_INCOME_TOTAL</th>\n",
       "      <td>0.221403</td>\n",
       "      <td>1.000000</td>\n",
       "    </tr>\n",
       "  </tbody>\n",
       "</table>\n",
       "</div>"
      ],
      "text/plain": [
       "                  EDUCATION_LEVEL  AMT_INCOME_TOTAL\n",
       "EDUCATION_LEVEL          1.000000          0.221403\n",
       "AMT_INCOME_TOTAL         0.221403          1.000000"
      ]
     },
     "execution_count": 18,
     "metadata": {},
     "output_type": "execute_result"
    }
   ],
   "source": [
    "# belows shows that the corelation coefficent is 0.23 and it positively related to AMT_INCOME_TOTAL\n",
    "ar_pd[['EDUCATION_LEVEL','AMT_INCOME_TOTAL']].corr()"
   ]
  },
  {
   "cell_type": "markdown",
   "metadata": {},
   "source": [
    "## 4. What is the average and median salary of the applicant base?"
   ]
  },
  {
   "cell_type": "code",
   "execution_count": 19,
   "metadata": {},
   "outputs": [
    {
     "name": "stdout",
     "output_type": "stream",
     "text": [
      "+-------+------------------+\n",
      "|summary|  AMT_INCOME_TOTAL|\n",
      "+-------+------------------+\n",
      "|  count|            438557|\n",
      "|   mean| 187524.2860095039|\n",
      "| stddev|110086.85306622987|\n",
      "|    min|           26100.0|\n",
      "|    25%|          121500.0|\n",
      "|    50%|          160650.0|\n",
      "|    75%|          225000.0|\n",
      "|    max|         6750000.0|\n",
      "+-------+------------------+\n",
      "\n"
     ]
    }
   ],
   "source": [
    "# 50 percentile in the median\n",
    "ar.select('AMT_INCOME_TOTAL').summary().show()"
   ]
  },
  {
   "cell_type": "code",
   "execution_count": 20,
   "metadata": {},
   "outputs": [],
   "source": [
    "#read credit record\n",
    "cr = spark.read.csv(\"credit_record.csv\", inferSchema=True, header=True)"
   ]
  },
  {
   "cell_type": "code",
   "execution_count": 21,
   "metadata": {},
   "outputs": [
    {
     "name": "stdout",
     "output_type": "stream",
     "text": [
      "+-------+--------------+------+\n",
      "|     ID|MONTHS_BALANCE|STATUS|\n",
      "+-------+--------------+------+\n",
      "|5001711|             0|     X|\n",
      "|5001711|            -1|     0|\n",
      "|5001711|            -2|     0|\n",
      "|5001711|            -3|     0|\n",
      "|5001712|             0|     C|\n",
      "|5001712|            -1|     C|\n",
      "|5001712|            -2|     C|\n",
      "|5001712|            -3|     C|\n",
      "|5001712|            -4|     C|\n",
      "|5001712|            -5|     C|\n",
      "|5001712|            -6|     C|\n",
      "|5001712|            -7|     C|\n",
      "|5001712|            -8|     C|\n",
      "|5001712|            -9|     0|\n",
      "|5001712|           -10|     0|\n",
      "|5001712|           -11|     0|\n",
      "|5001712|           -12|     0|\n",
      "|5001712|           -13|     0|\n",
      "|5001712|           -14|     0|\n",
      "|5001712|           -15|     0|\n",
      "+-------+--------------+------+\n",
      "only showing top 20 rows\n",
      "\n"
     ]
    }
   ],
   "source": [
    "cr.show()"
   ]
  },
  {
   "cell_type": "code",
   "execution_count": 22,
   "metadata": {},
   "outputs": [],
   "source": [
    "from pyspark.sql.functions import col \n",
    "cr = cr.withColumn('DELENQUENT', when((cr['STATUS'] == '2') | (cr['STATUS'] == '3')| (cr['STATUS'] == '4')| (cr['STATUS'] == '5')  , 1).otherwise(0))"
   ]
  },
  {
   "cell_type": "code",
   "execution_count": 23,
   "metadata": {},
   "outputs": [],
   "source": [
    "from pyspark.sql.functions import *\n",
    "cr = cr.select('ID','DELENQUENT').groupby('ID').agg(max('DELENQUENT').alias('DELENQUENT'))"
   ]
  },
  {
   "cell_type": "code",
   "execution_count": 24,
   "metadata": {},
   "outputs": [
    {
     "data": {
      "text/plain": [
       "45985"
      ]
     },
     "execution_count": 24,
     "metadata": {},
     "output_type": "execute_result"
    }
   ],
   "source": [
    "cr.count()"
   ]
  },
  {
   "cell_type": "code",
   "execution_count": 25,
   "metadata": {},
   "outputs": [
    {
     "name": "stdout",
     "output_type": "stream",
     "text": [
      "+----------+-----+\n",
      "|DELENQUENT|count|\n",
      "+----------+-----+\n",
      "|         1|  667|\n",
      "|         0|45318|\n",
      "+----------+-----+\n",
      "\n"
     ]
    }
   ],
   "source": [
    "cr.groupBy(\"DELENQUENT\").count().show()"
   ]
  },
  {
   "cell_type": "code",
   "execution_count": 26,
   "metadata": {},
   "outputs": [],
   "source": [
    "#rename the column name before joining\n",
    "cr = cr.select(cr['ID'].alias('ID1'), 'DELENQUENT')"
   ]
  },
  {
   "cell_type": "code",
   "execution_count": null,
   "metadata": {},
   "outputs": [],
   "source": []
  },
  {
   "cell_type": "code",
   "execution_count": 27,
   "metadata": {},
   "outputs": [],
   "source": [
    "df = ar.join(cr, ar.ID == cr.ID1, how='inner').drop('ID1')"
   ]
  },
  {
   "cell_type": "code",
   "execution_count": 28,
   "metadata": {},
   "outputs": [
    {
     "name": "stdout",
     "output_type": "stream",
     "text": [
      "+-------+-----------+------------+---------------+------------+----------------+--------------------+--------------------+-----------------+----------+-------------+----------+---------------+----------+----------+---------------+---------------+---------------+----------+\n",
      "|     ID|CODE_GENDER|FLAG_OWN_CAR|FLAG_OWN_REALTY|CNT_CHILDREN|AMT_INCOME_TOTAL|    NAME_INCOME_TYPE|  NAME_FAMILY_STATUS|NAME_HOUSING_TYPE|DAYS_BIRTH|DAYS_EMPLOYED|FLAG_MOBIL|FLAG_WORK_PHONE|FLAG_PHONE|FLAG_EMAIL|OCCUPATION_TYPE|CNT_FAM_MEMBERS|EDUCATION_LEVEL|DELENQUENT|\n",
      "+-------+-----------+------------+---------------+------------+----------------+--------------------+--------------------+-----------------+----------+-------------+----------+---------------+----------+----------+---------------+---------------+---------------+----------+\n",
      "|5008804|          M|           Y|              Y|           0|        427500.0|             Working|      Civil marriage| Rented apartment|    -12005|        -4542|         1|              1|         0|         0|           null|            2.0|              4|         0|\n",
      "|5008805|          M|           Y|              Y|           0|        427500.0|             Working|      Civil marriage| Rented apartment|    -12005|        -4542|         1|              1|         0|         0|           null|            2.0|              4|         0|\n",
      "|5008806|          M|           Y|              Y|           0|        112500.0|             Working|             Married|House / apartment|    -21474|        -1134|         1|              0|         0|         0| Security staff|            2.0|              2|         0|\n",
      "|5008808|          F|           N|              Y|           0|        270000.0|Commercial associate|Single / not married|House / apartment|    -19110|        -3051|         1|              0|         1|         1|    Sales staff|            1.0|              2|         0|\n",
      "|5008809|          F|           N|              Y|           0|        270000.0|Commercial associate|Single / not married|House / apartment|    -19110|        -3051|         1|              0|         1|         1|    Sales staff|            1.0|              2|         0|\n",
      "|5008810|          F|           N|              Y|           0|        270000.0|Commercial associate|Single / not married|House / apartment|    -19110|        -3051|         1|              0|         1|         1|    Sales staff|            1.0|              2|         0|\n",
      "|5008811|          F|           N|              Y|           0|        270000.0|Commercial associate|Single / not married|House / apartment|    -19110|        -3051|         1|              0|         1|         1|    Sales staff|            1.0|              2|         0|\n",
      "|5008812|          F|           N|              Y|           0|        283500.0|           Pensioner|           Separated|House / apartment|    -22464|       365243|         1|              0|         0|         0|           null|            1.0|              4|         0|\n",
      "|5008813|          F|           N|              Y|           0|        283500.0|           Pensioner|           Separated|House / apartment|    -22464|       365243|         1|              0|         0|         0|           null|            1.0|              4|         0|\n",
      "|5008814|          F|           N|              Y|           0|        283500.0|           Pensioner|           Separated|House / apartment|    -22464|       365243|         1|              0|         0|         0|           null|            1.0|              4|         0|\n",
      "|5008815|          M|           Y|              Y|           0|        270000.0|             Working|             Married|House / apartment|    -16872|         -769|         1|              1|         1|         1|    Accountants|            2.0|              4|         0|\n",
      "|5112956|          M|           Y|              Y|           0|        270000.0|             Working|             Married|House / apartment|    -16872|         -769|         1|              1|         1|         1|    Accountants|            2.0|              4|         0|\n",
      "|5008819|          M|           Y|              Y|           0|        135000.0|Commercial associate|             Married|House / apartment|    -17778|        -1194|         1|              0|         0|         0|       Laborers|            2.0|              2|         0|\n",
      "|5008820|          M|           Y|              Y|           0|        135000.0|Commercial associate|             Married|House / apartment|    -17778|        -1194|         1|              0|         0|         0|       Laborers|            2.0|              2|         0|\n",
      "|5008821|          M|           Y|              Y|           0|        135000.0|Commercial associate|             Married|House / apartment|    -17778|        -1194|         1|              0|         0|         0|       Laborers|            2.0|              2|         0|\n",
      "|5008822|          M|           Y|              Y|           0|        135000.0|Commercial associate|             Married|House / apartment|    -17778|        -1194|         1|              0|         0|         0|       Laborers|            2.0|              2|         0|\n",
      "|5008823|          M|           Y|              Y|           0|        135000.0|Commercial associate|             Married|House / apartment|    -17778|        -1194|         1|              0|         0|         0|       Laborers|            2.0|              2|         0|\n",
      "|5008824|          M|           Y|              Y|           0|        135000.0|Commercial associate|             Married|House / apartment|    -17778|        -1194|         1|              0|         0|         0|       Laborers|            2.0|              2|         0|\n",
      "|5008825|          F|           Y|              N|           0|        130500.0|             Working|             Married|House / apartment|    -10669|        -1103|         1|              0|         0|         0|    Accountants|            2.0|              3|         0|\n",
      "|5008826|          F|           Y|              N|           0|        130500.0|             Working|             Married|House / apartment|    -10669|        -1103|         1|              0|         0|         0|    Accountants|            2.0|              3|         0|\n",
      "+-------+-----------+------------+---------------+------------+----------------+--------------------+--------------------+-----------------+----------+-------------+----------+---------------+----------+----------+---------------+---------------+---------------+----------+\n",
      "only showing top 20 rows\n",
      "\n"
     ]
    }
   ],
   "source": [
    "df.show()"
   ]
  },
  {
   "cell_type": "code",
   "execution_count": 29,
   "metadata": {},
   "outputs": [
    {
     "data": {
      "text/plain": [
       "36457"
      ]
     },
     "execution_count": 29,
     "metadata": {},
     "output_type": "execute_result"
    }
   ],
   "source": [
    "df.count()"
   ]
  },
  {
   "cell_type": "markdown",
   "metadata": {},
   "source": [
    "## 5. Is the proportion of bad customers higher for people who own cars?"
   ]
  },
  {
   "cell_type": "code",
   "execution_count": 30,
   "metadata": {},
   "outputs": [
    {
     "data": {
      "text/plain": [
       "0.36363636363636365"
      ]
     },
     "execution_count": 30,
     "metadata": {},
     "output_type": "execute_result"
    }
   ],
   "source": [
    "# who owns Cars\n",
    "df.filter((df.FLAG_OWN_CAR == 'Y') & (df.DELENQUENT == 1)).count() / df.filter(df.DELENQUENT == 1).count()"
   ]
  },
  {
   "cell_type": "code",
   "execution_count": 31,
   "metadata": {},
   "outputs": [
    {
     "data": {
      "text/plain": [
       "0.6363636363636364"
      ]
     },
     "execution_count": 31,
     "metadata": {},
     "output_type": "execute_result"
    }
   ],
   "source": [
    "# who doesn't owns Cars\n",
    "df.filter((df.FLAG_OWN_CAR == 'N') & (df.DELENQUENT == 1)).count() / df.filter(df.DELENQUENT == 1).count()"
   ]
  },
  {
   "cell_type": "markdown",
   "metadata": {},
   "source": [
    "## 6. Do people living on rent have a higher proportion of bad customers compared to the rest of the population?"
   ]
  },
  {
   "cell_type": "code",
   "execution_count": 32,
   "metadata": {},
   "outputs": [
    {
     "data": {
      "text/plain": [
       "0.012987012987012988"
      ]
     },
     "execution_count": 32,
     "metadata": {},
     "output_type": "execute_result"
    }
   ],
   "source": [
    "# who lives on rent\n",
    "df.filter((df.NAME_HOUSING_TYPE == 'Rented apartment') & (df.DELENQUENT == 1)).count() / df.filter(df.DELENQUENT == 1).count()"
   ]
  },
  {
   "cell_type": "code",
   "execution_count": 33,
   "metadata": {},
   "outputs": [
    {
     "data": {
      "text/plain": [
       "0.987012987012987"
      ]
     },
     "execution_count": 33,
     "metadata": {},
     "output_type": "execute_result"
    }
   ],
   "source": [
    "# who doen't lives on rent\n",
    "df.filter(~(df.NAME_HOUSING_TYPE == 'Rented apartment') & (df.DELENQUENT == 1)).count() / df.filter(df.DELENQUENT == 1).count()"
   ]
  },
  {
   "cell_type": "markdown",
   "metadata": {},
   "source": [
    "## 7. Do single customers have a high proportion of bad customers compared to married customers"
   ]
  },
  {
   "cell_type": "code",
   "execution_count": 34,
   "metadata": {},
   "outputs": [
    {
     "data": {
      "text/plain": [
       "0.7126623376623377"
      ]
     },
     "execution_count": 34,
     "metadata": {},
     "output_type": "execute_result"
    }
   ],
   "source": [
    "# who are married\n",
    "df.filter(((df.NAME_FAMILY_STATUS == 'Married') | (df.NAME_FAMILY_STATUS == 'Civil marriage')) & (df.DELENQUENT == 1)).count() / df.filter(df.DELENQUENT == 1).count()"
   ]
  },
  {
   "cell_type": "code",
   "execution_count": 35,
   "metadata": {},
   "outputs": [
    {
     "data": {
      "text/plain": [
       "0.28733766233766234"
      ]
     },
     "execution_count": 35,
     "metadata": {},
     "output_type": "execute_result"
    }
   ],
   "source": [
    "# who are not married\n",
    "df.filter(~((df.NAME_FAMILY_STATUS == 'Married') | (df.NAME_FAMILY_STATUS == 'Civil marriage')) & (df.DELENQUENT == 1)).count() / df.filter(df.DELENQUENT == 1).count()"
   ]
  },
  {
   "cell_type": "markdown",
   "metadata": {},
   "source": [
    "## Model build and EDA"
   ]
  },
  {
   "cell_type": "code",
   "execution_count": 36,
   "metadata": {},
   "outputs": [],
   "source": [
    "#below are not need any more\n",
    "ar = ''\n",
    "cr = ''\n"
   ]
  },
  {
   "cell_type": "code",
   "execution_count": 37,
   "metadata": {},
   "outputs": [
    {
     "name": "stdout",
     "output_type": "stream",
     "text": [
      "+-------+-----------------+-----------+------------+---------------+-------------------+------------------+--------------------+------------------+-----------------+------------------+------------------+----------+-------------------+-------------------+-------------------+--------------------+------------------+------------------+--------------------+\n",
      "|summary|               ID|CODE_GENDER|FLAG_OWN_CAR|FLAG_OWN_REALTY|       CNT_CHILDREN|  AMT_INCOME_TOTAL|    NAME_INCOME_TYPE|NAME_FAMILY_STATUS|NAME_HOUSING_TYPE|        DAYS_BIRTH|     DAYS_EMPLOYED|FLAG_MOBIL|    FLAG_WORK_PHONE|         FLAG_PHONE|         FLAG_EMAIL|     OCCUPATION_TYPE|   CNT_FAM_MEMBERS|   EDUCATION_LEVEL|          DELENQUENT|\n",
      "+-------+-----------------+-----------+------------+---------------+-------------------+------------------+--------------------+------------------+-----------------+------------------+------------------+----------+-------------------+-------------------+-------------------+--------------------+------------------+------------------+--------------------+\n",
      "|  count|            36457|      36457|       36457|          36457|              36457|             36457|               36457|             36457|            36457|             36457|             36457|     36457|              36457|              36457|              36457|               25134|             36457|             36457|               36457|\n",
      "|   mean|5078226.996543874|       null|        null|           null|0.43031516581177826|186685.73666236937|                null|              null|             null|-15975.17338234084|59262.935567929344|       1.0|0.22552596209232795|0.29481306744932384|0.08972213840963326|                null| 2.198452971994404| 2.572180925473846|0.016896617933455853|\n",
      "| stddev|41875.24078816315|       null|        null|           null| 0.7423669007186855|101789.22648234623|                null|              null|             null| 4200.549943759223| 137651.3348588564|       0.0|0.41793395842567754|0.45596493881592487| 0.2857871875724889|                null|0.9116861437101031|0.9009587262858909| 0.12888591034081645|\n",
      "|    min|          5008804|          F|           N|              N|                  0|           27000.0|Commercial associate|    Civil marriage|  Co-op apartment|            -25152|            -15713|         1|                  0|                  0|                  0|         Accountants|               1.0|                 1|                   0|\n",
      "|    25%|          5042025|       null|        null|           null|                  0|          121500.0|                null|              null|             null|            -19435|             -3153|         1|                  0|                  0|                  0|                null|               2.0|                 2|                   0|\n",
      "|    50%|          5074614|       null|        null|           null|                  0|          157500.0|                null|              null|             null|            -15563|             -1552|         1|                  0|                  0|                  0|                null|               2.0|                 2|                   0|\n",
      "|    75%|          5114655|       null|        null|           null|                  1|          225000.0|                null|              null|             null|            -12463|              -408|         1|                  0|                  1|                  0|                null|               3.0|                 4|                   0|\n",
      "|    max|          5150487|          M|           Y|              Y|                 19|         1575000.0|             Working|             Widow|     With parents|             -7489|            365243|         1|                  1|                  1|                  1|Waiters/barmen staff|              20.0|                 5|                   1|\n",
      "+-------+-----------------+-----------+------------+---------------+-------------------+------------------+--------------------+------------------+-----------------+------------------+------------------+----------+-------------------+-------------------+-------------------+--------------------+------------------+------------------+--------------------+\n",
      "\n"
     ]
    }
   ],
   "source": [
    "#get the statics overview\n",
    "df.summary().show()"
   ]
  },
  {
   "cell_type": "code",
   "execution_count": 38,
   "metadata": {},
   "outputs": [],
   "source": [
    "#convert CODE_GENDER, FLAG_OWN_CAR, FLAG_OWN_CAR\n",
    "df = df.withColumn('CODE_GENDER_NUM', when(df.CODE_GENDER == 'M', 1).otherwise(0))\n",
    "df = df.withColumn('FLAG_OWN_CAR_NUM', when(df.FLAG_OWN_CAR == 'Y', 1).otherwise(0))\n",
    "df = df.withColumn('FLAG_OWN_REALTY_NUM', when(df.FLAG_OWN_REALTY == 'Y', 1).otherwise(0))"
   ]
  },
  {
   "cell_type": "code",
   "execution_count": 39,
   "metadata": {},
   "outputs": [],
   "source": [
    "#DAYS_EMPLOYED and DAYS_BIRTH are in negative convert them to postive and to years\n",
    "df = df.withColumn('AGE_EMPLOYED', (df.DAYS_EMPLOYED * -1) / 365)"
   ]
  },
  {
   "cell_type": "code",
   "execution_count": 40,
   "metadata": {},
   "outputs": [],
   "source": [
    "df = df.withColumn('AGE', (df.DAYS_BIRTH * -1) / 365)"
   ]
  },
  {
   "cell_type": "code",
   "execution_count": 41,
   "metadata": {},
   "outputs": [],
   "source": [
    "#drop redundant columns\n",
    "df = df.drop('CODE_GENDER','FLAG_OWN_CAR','FLAG_OWN_REALTY','DAYS_EMPLOYED', 'DAYS_BIRTH')"
   ]
  },
  {
   "cell_type": "code",
   "execution_count": 42,
   "metadata": {},
   "outputs": [
    {
     "name": "stdout",
     "output_type": "stream",
     "text": [
      "root\n",
      " |-- ID: integer (nullable = true)\n",
      " |-- CNT_CHILDREN: integer (nullable = true)\n",
      " |-- AMT_INCOME_TOTAL: double (nullable = true)\n",
      " |-- NAME_INCOME_TYPE: string (nullable = true)\n",
      " |-- NAME_FAMILY_STATUS: string (nullable = true)\n",
      " |-- NAME_HOUSING_TYPE: string (nullable = true)\n",
      " |-- FLAG_MOBIL: integer (nullable = true)\n",
      " |-- FLAG_WORK_PHONE: integer (nullable = true)\n",
      " |-- FLAG_PHONE: integer (nullable = true)\n",
      " |-- FLAG_EMAIL: integer (nullable = true)\n",
      " |-- OCCUPATION_TYPE: string (nullable = true)\n",
      " |-- CNT_FAM_MEMBERS: double (nullable = true)\n",
      " |-- EDUCATION_LEVEL: integer (nullable = false)\n",
      " |-- DELENQUENT: integer (nullable = true)\n",
      " |-- CODE_GENDER_NUM: integer (nullable = false)\n",
      " |-- FLAG_OWN_CAR_NUM: integer (nullable = false)\n",
      " |-- FLAG_OWN_REALTY_NUM: integer (nullable = false)\n",
      " |-- AGE_EMPLOYED: double (nullable = true)\n",
      " |-- AGE: double (nullable = true)\n",
      "\n"
     ]
    }
   ],
   "source": [
    "df.printSchema()"
   ]
  },
  {
   "cell_type": "code",
   "execution_count": null,
   "metadata": {},
   "outputs": [],
   "source": []
  },
  {
   "cell_type": "code",
   "execution_count": 43,
   "metadata": {},
   "outputs": [
    {
     "data": {
      "text/plain": [
       "36457"
      ]
     },
     "execution_count": 43,
     "metadata": {},
     "output_type": "execute_result"
    }
   ],
   "source": [
    "df.count()"
   ]
  },
  {
   "cell_type": "code",
   "execution_count": 44,
   "metadata": {},
   "outputs": [
    {
     "name": "stdout",
     "output_type": "stream",
     "text": [
      "+-------+--------------------+\n",
      "|summary|     OCCUPATION_TYPE|\n",
      "+-------+--------------------+\n",
      "|  count|               25134|\n",
      "|   mean|                null|\n",
      "| stddev|                null|\n",
      "|    min|         Accountants|\n",
      "|    25%|                null|\n",
      "|    50%|                null|\n",
      "|    75%|                null|\n",
      "|    max|Waiters/barmen staff|\n",
      "+-------+--------------------+\n",
      "\n"
     ]
    }
   ],
   "source": [
    "df.select('OCCUPATION_TYPE').summary().show()"
   ]
  },
  {
   "cell_type": "code",
   "execution_count": 45,
   "metadata": {},
   "outputs": [
    {
     "data": {
      "text/plain": [
       "11323"
      ]
     },
     "execution_count": 45,
     "metadata": {},
     "output_type": "execute_result"
    }
   ],
   "source": [
    "# we can see that occupation type total and count is different which the missing value\n",
    "36457 - 25134"
   ]
  },
  {
   "cell_type": "code",
   "execution_count": null,
   "metadata": {},
   "outputs": [],
   "source": []
  },
  {
   "cell_type": "code",
   "execution_count": 46,
   "metadata": {},
   "outputs": [],
   "source": [
    "#impute them with 'Missing' text as this is only column with missing value\n",
    "df = df.fillna('Missing')\n"
   ]
  },
  {
   "cell_type": "code",
   "execution_count": 47,
   "metadata": {},
   "outputs": [
    {
     "name": "stdout",
     "output_type": "stream",
     "text": [
      "+--------------------+\n",
      "|     OCCUPATION_TYPE|\n",
      "+--------------------+\n",
      "|            Managers|\n",
      "|            HR staff|\n",
      "|      Medicine staff|\n",
      "|         Accountants|\n",
      "|            Laborers|\n",
      "|      Cleaning staff|\n",
      "|Private service s...|\n",
      "|             Drivers|\n",
      "|         Sales staff|\n",
      "|       Realty agents|\n",
      "|            IT staff|\n",
      "|             Missing|\n",
      "|      Security staff|\n",
      "|         Secretaries|\n",
      "|  Low-skill Laborers|\n",
      "|          Core staff|\n",
      "|       Cooking staff|\n",
      "|High skill tech s...|\n",
      "|Waiters/barmen staff|\n",
      "+--------------------+\n",
      "\n"
     ]
    }
   ],
   "source": [
    "df.select('OCCUPATION_TYPE').distinct().show()"
   ]
  },
  {
   "cell_type": "code",
   "execution_count": 48,
   "metadata": {},
   "outputs": [],
   "source": [
    "#we can see the Missing text above"
   ]
  },
  {
   "cell_type": "code",
   "execution_count": 49,
   "metadata": {},
   "outputs": [],
   "source": [
    "df_pd = df.toPandas()"
   ]
  },
  {
   "cell_type": "code",
   "execution_count": 50,
   "metadata": {},
   "outputs": [
    {
     "name": "stderr",
     "output_type": "stream",
     "text": [
      "/home/ec2-user/.local/lib/python3.7/site-packages/pandas/core/series.py:726: RuntimeWarning: divide by zero encountered in log\n",
      "  result = getattr(ufunc, method)(*inputs, **kwargs)\n"
     ]
    },
    {
     "data": {
      "text/plain": [
       "WOE(mono_custom_binning={'AGE': array([20.51780822, 37.10958904, 49.54794521, 68.90958904]),\n",
       "                         'AGE_EMPLOYED': array([-1000.66575342,     2.08767123,     6.88219178,    43.04931507]),\n",
       "                         'AMT_INCOME_TOTAL': array([  27000.,  135000.,  202500., 1575000.]),\n",
       "                         'CNT_CHILDREN': array([ 0.,  1., 19.]),\n",
       "                         'CNT_FAM_MEMBERS': array([ 1.,  2., 20.]),\n",
       "                         'CODE_GENDER_NUM': array([0., 1.]),\n",
       "                         'EDUCATION_LEVEL': array([...\n",
       "                                  'Laborers': -0.059288675759952725,\n",
       "                                  'Low-skill Laborers': 1.0250485342148945,\n",
       "                                  'Managers': -0.08088390476995357,\n",
       "                                  'Medicine staff': -0.721387807612114,\n",
       "                                  'Missing': 0.014149371041716879,\n",
       "                                  'Private service staff': -1.078062751550846,\n",
       "                                  'Realty agents': 0.0,\n",
       "                                  'Sales staff': -0.27296345564531077,\n",
       "                                  'Secretaries': -0.24719832043369996,\n",
       "                                  'Security staff': 0.2672476848403552,\n",
       "                                  'Waiters/barmen staff': -0.390746491301694}})"
      ]
     },
     "execution_count": 50,
     "metadata": {},
     "output_type": "execute_result"
    }
   ],
   "source": [
    "from xverse.transformer import MonotonicBinning\n",
    "from xverse.transformer import WOE\n",
    "clf = WOE()\n",
    "clf.fit(df_pd.drop(columns=['ID','DELENQUENT']), df_pd['DELENQUENT'])"
   ]
  },
  {
   "cell_type": "code",
   "execution_count": 51,
   "metadata": {},
   "outputs": [],
   "source": [
    "woe_df = clf.woe_df"
   ]
  },
  {
   "cell_type": "code",
   "execution_count": 52,
   "metadata": {},
   "outputs": [
    {
     "data": {
      "text/html": [
       "<div>\n",
       "<style scoped>\n",
       "    .dataframe tbody tr th:only-of-type {\n",
       "        vertical-align: middle;\n",
       "    }\n",
       "\n",
       "    .dataframe tbody tr th {\n",
       "        vertical-align: top;\n",
       "    }\n",
       "\n",
       "    .dataframe thead th {\n",
       "        text-align: right;\n",
       "    }\n",
       "</style>\n",
       "<table border=\"1\" class=\"dataframe\">\n",
       "  <thead>\n",
       "    <tr style=\"text-align: right;\">\n",
       "      <th></th>\n",
       "      <th>Variable_Name</th>\n",
       "      <th>Category</th>\n",
       "      <th>Count</th>\n",
       "      <th>Event</th>\n",
       "      <th>Non_Event</th>\n",
       "      <th>Event_Rate</th>\n",
       "      <th>Non_Event_Rate</th>\n",
       "      <th>Event_Distribution</th>\n",
       "      <th>Non_Event_Distribution</th>\n",
       "      <th>WOE</th>\n",
       "      <th>Information_Value</th>\n",
       "    </tr>\n",
       "  </thead>\n",
       "  <tbody>\n",
       "    <tr>\n",
       "      <th>0</th>\n",
       "      <td>AGE</td>\n",
       "      <td>(20.517, 37.11]</td>\n",
       "      <td>12156</td>\n",
       "      <td>216</td>\n",
       "      <td>11940</td>\n",
       "      <td>0.017769</td>\n",
       "      <td>0.982231</td>\n",
       "      <td>0.350649</td>\n",
       "      <td>0.333138</td>\n",
       "      <td>0.051230</td>\n",
       "      <td>0.004690</td>\n",
       "    </tr>\n",
       "    <tr>\n",
       "      <th>1</th>\n",
       "      <td>AGE</td>\n",
       "      <td>(37.11, 49.548]</td>\n",
       "      <td>12149</td>\n",
       "      <td>186</td>\n",
       "      <td>11963</td>\n",
       "      <td>0.015310</td>\n",
       "      <td>0.984690</td>\n",
       "      <td>0.301948</td>\n",
       "      <td>0.333780</td>\n",
       "      <td>-0.100226</td>\n",
       "      <td>0.004690</td>\n",
       "    </tr>\n",
       "    <tr>\n",
       "      <th>2</th>\n",
       "      <td>AGE</td>\n",
       "      <td>(49.548, 68.91]</td>\n",
       "      <td>12152</td>\n",
       "      <td>214</td>\n",
       "      <td>11938</td>\n",
       "      <td>0.017610</td>\n",
       "      <td>0.982390</td>\n",
       "      <td>0.347403</td>\n",
       "      <td>0.333082</td>\n",
       "      <td>0.042095</td>\n",
       "      <td>0.004690</td>\n",
       "    </tr>\n",
       "    <tr>\n",
       "      <th>3</th>\n",
       "      <td>AGE_EMPLOYED</td>\n",
       "      <td>(-1000.667, 2.088]</td>\n",
       "      <td>12174</td>\n",
       "      <td>247</td>\n",
       "      <td>11927</td>\n",
       "      <td>0.020289</td>\n",
       "      <td>0.979711</td>\n",
       "      <td>0.400974</td>\n",
       "      <td>0.332775</td>\n",
       "      <td>0.186429</td>\n",
       "      <td>0.026508</td>\n",
       "    </tr>\n",
       "    <tr>\n",
       "      <th>4</th>\n",
       "      <td>AGE_EMPLOYED</td>\n",
       "      <td>(2.088, 6.882]</td>\n",
       "      <td>12155</td>\n",
       "      <td>203</td>\n",
       "      <td>11952</td>\n",
       "      <td>0.016701</td>\n",
       "      <td>0.983299</td>\n",
       "      <td>0.329545</td>\n",
       "      <td>0.333473</td>\n",
       "      <td>-0.011847</td>\n",
       "      <td>0.026508</td>\n",
       "    </tr>\n",
       "    <tr>\n",
       "      <th>...</th>\n",
       "      <td>...</td>\n",
       "      <td>...</td>\n",
       "      <td>...</td>\n",
       "      <td>...</td>\n",
       "      <td>...</td>\n",
       "      <td>...</td>\n",
       "      <td>...</td>\n",
       "      <td>...</td>\n",
       "      <td>...</td>\n",
       "      <td>...</td>\n",
       "      <td>...</td>\n",
       "    </tr>\n",
       "    <tr>\n",
       "      <th>61</th>\n",
       "      <td>OCCUPATION_TYPE</td>\n",
       "      <td>Realty agents</td>\n",
       "      <td>79</td>\n",
       "      <td>0</td>\n",
       "      <td>79</td>\n",
       "      <td>0.000000</td>\n",
       "      <td>1.000000</td>\n",
       "      <td>0.000000</td>\n",
       "      <td>0.002204</td>\n",
       "      <td>0.000000</td>\n",
       "      <td>0.060582</td>\n",
       "    </tr>\n",
       "    <tr>\n",
       "      <th>62</th>\n",
       "      <td>OCCUPATION_TYPE</td>\n",
       "      <td>Sales staff</td>\n",
       "      <td>3485</td>\n",
       "      <td>45</td>\n",
       "      <td>3440</td>\n",
       "      <td>0.012912</td>\n",
       "      <td>0.987088</td>\n",
       "      <td>0.073052</td>\n",
       "      <td>0.095979</td>\n",
       "      <td>-0.272963</td>\n",
       "      <td>0.060582</td>\n",
       "    </tr>\n",
       "    <tr>\n",
       "      <th>63</th>\n",
       "      <td>OCCUPATION_TYPE</td>\n",
       "      <td>Secretaries</td>\n",
       "      <td>151</td>\n",
       "      <td>2</td>\n",
       "      <td>149</td>\n",
       "      <td>0.013245</td>\n",
       "      <td>0.986755</td>\n",
       "      <td>0.003247</td>\n",
       "      <td>0.004157</td>\n",
       "      <td>-0.247198</td>\n",
       "      <td>0.060582</td>\n",
       "    </tr>\n",
       "    <tr>\n",
       "      <th>64</th>\n",
       "      <td>OCCUPATION_TYPE</td>\n",
       "      <td>Security staff</td>\n",
       "      <td>592</td>\n",
       "      <td>13</td>\n",
       "      <td>579</td>\n",
       "      <td>0.021959</td>\n",
       "      <td>0.978041</td>\n",
       "      <td>0.021104</td>\n",
       "      <td>0.016155</td>\n",
       "      <td>0.267248</td>\n",
       "      <td>0.060582</td>\n",
       "    </tr>\n",
       "    <tr>\n",
       "      <th>65</th>\n",
       "      <td>OCCUPATION_TYPE</td>\n",
       "      <td>Waiters/barmen staff</td>\n",
       "      <td>174</td>\n",
       "      <td>2</td>\n",
       "      <td>172</td>\n",
       "      <td>0.011494</td>\n",
       "      <td>0.988506</td>\n",
       "      <td>0.003247</td>\n",
       "      <td>0.004799</td>\n",
       "      <td>-0.390746</td>\n",
       "      <td>0.060582</td>\n",
       "    </tr>\n",
       "  </tbody>\n",
       "</table>\n",
       "<p>66 rows × 11 columns</p>\n",
       "</div>"
      ],
      "text/plain": [
       "      Variable_Name              Category  Count  Event  Non_Event  \\\n",
       "0               AGE       (20.517, 37.11]  12156    216      11940   \n",
       "1               AGE       (37.11, 49.548]  12149    186      11963   \n",
       "2               AGE       (49.548, 68.91]  12152    214      11938   \n",
       "3      AGE_EMPLOYED    (-1000.667, 2.088]  12174    247      11927   \n",
       "4      AGE_EMPLOYED        (2.088, 6.882]  12155    203      11952   \n",
       "..              ...                   ...    ...    ...        ...   \n",
       "61  OCCUPATION_TYPE         Realty agents     79      0         79   \n",
       "62  OCCUPATION_TYPE           Sales staff   3485     45       3440   \n",
       "63  OCCUPATION_TYPE           Secretaries    151      2        149   \n",
       "64  OCCUPATION_TYPE        Security staff    592     13        579   \n",
       "65  OCCUPATION_TYPE  Waiters/barmen staff    174      2        172   \n",
       "\n",
       "    Event_Rate  Non_Event_Rate  Event_Distribution  Non_Event_Distribution  \\\n",
       "0     0.017769        0.982231            0.350649                0.333138   \n",
       "1     0.015310        0.984690            0.301948                0.333780   \n",
       "2     0.017610        0.982390            0.347403                0.333082   \n",
       "3     0.020289        0.979711            0.400974                0.332775   \n",
       "4     0.016701        0.983299            0.329545                0.333473   \n",
       "..         ...             ...                 ...                     ...   \n",
       "61    0.000000        1.000000            0.000000                0.002204   \n",
       "62    0.012912        0.987088            0.073052                0.095979   \n",
       "63    0.013245        0.986755            0.003247                0.004157   \n",
       "64    0.021959        0.978041            0.021104                0.016155   \n",
       "65    0.011494        0.988506            0.003247                0.004799   \n",
       "\n",
       "         WOE  Information_Value  \n",
       "0   0.051230           0.004690  \n",
       "1  -0.100226           0.004690  \n",
       "2   0.042095           0.004690  \n",
       "3   0.186429           0.026508  \n",
       "4  -0.011847           0.026508  \n",
       "..       ...                ...  \n",
       "61  0.000000           0.060582  \n",
       "62 -0.272963           0.060582  \n",
       "63 -0.247198           0.060582  \n",
       "64  0.267248           0.060582  \n",
       "65 -0.390746           0.060582  \n",
       "\n",
       "[66 rows x 11 columns]"
      ]
     },
     "execution_count": 52,
     "metadata": {},
     "output_type": "execute_result"
    }
   ],
   "source": [
    "woe_df"
   ]
  },
  {
   "cell_type": "code",
   "execution_count": 53,
   "metadata": {},
   "outputs": [
    {
     "data": {
      "text/html": [
       "<div>\n",
       "<style scoped>\n",
       "    .dataframe tbody tr th:only-of-type {\n",
       "        vertical-align: middle;\n",
       "    }\n",
       "\n",
       "    .dataframe tbody tr th {\n",
       "        vertical-align: top;\n",
       "    }\n",
       "\n",
       "    .dataframe thead th {\n",
       "        text-align: right;\n",
       "    }\n",
       "</style>\n",
       "<table border=\"1\" class=\"dataframe\">\n",
       "  <thead>\n",
       "    <tr style=\"text-align: right;\">\n",
       "      <th></th>\n",
       "      <th>Variable_Name</th>\n",
       "      <th>Category</th>\n",
       "      <th>Count</th>\n",
       "      <th>Event</th>\n",
       "      <th>Non_Event</th>\n",
       "      <th>Event_Rate</th>\n",
       "      <th>Non_Event_Rate</th>\n",
       "      <th>Event_Distribution</th>\n",
       "      <th>Non_Event_Distribution</th>\n",
       "      <th>WOE</th>\n",
       "      <th>Information_Value</th>\n",
       "    </tr>\n",
       "  </thead>\n",
       "  <tbody>\n",
       "    <tr>\n",
       "      <th>0</th>\n",
       "      <td>AGE</td>\n",
       "      <td>(49.548, 68.91]</td>\n",
       "      <td>12156</td>\n",
       "      <td>216</td>\n",
       "      <td>11963</td>\n",
       "      <td>0.017769</td>\n",
       "      <td>0.984690</td>\n",
       "      <td>0.350649</td>\n",
       "      <td>0.333780</td>\n",
       "      <td>0.051230</td>\n",
       "      <td>0.004690</td>\n",
       "    </tr>\n",
       "    <tr>\n",
       "      <th>1</th>\n",
       "      <td>AGE_EMPLOYED</td>\n",
       "      <td>(6.882, 43.049]</td>\n",
       "      <td>12174</td>\n",
       "      <td>247</td>\n",
       "      <td>11962</td>\n",
       "      <td>0.020289</td>\n",
       "      <td>0.986313</td>\n",
       "      <td>0.400974</td>\n",
       "      <td>0.333752</td>\n",
       "      <td>0.186429</td>\n",
       "      <td>0.026508</td>\n",
       "    </tr>\n",
       "    <tr>\n",
       "      <th>2</th>\n",
       "      <td>AMT_INCOME_TOTAL</td>\n",
       "      <td>(202500.0, 1575000.0]</td>\n",
       "      <td>14473</td>\n",
       "      <td>257</td>\n",
       "      <td>14216</td>\n",
       "      <td>0.017757</td>\n",
       "      <td>0.984582</td>\n",
       "      <td>0.417208</td>\n",
       "      <td>0.396641</td>\n",
       "      <td>0.050554</td>\n",
       "      <td>0.003572</td>\n",
       "    </tr>\n",
       "    <tr>\n",
       "      <th>3</th>\n",
       "      <td>CNT_CHILDREN</td>\n",
       "      <td>(1.0, 19.0]</td>\n",
       "      <td>32693</td>\n",
       "      <td>551</td>\n",
       "      <td>32142</td>\n",
       "      <td>0.017269</td>\n",
       "      <td>0.983146</td>\n",
       "      <td>0.894481</td>\n",
       "      <td>0.896794</td>\n",
       "      <td>0.022170</td>\n",
       "      <td>0.000057</td>\n",
       "    </tr>\n",
       "    <tr>\n",
       "      <th>4</th>\n",
       "      <td>CNT_FAM_MEMBERS</td>\n",
       "      <td>(2.0, 20.0]</td>\n",
       "      <td>26450</td>\n",
       "      <td>452</td>\n",
       "      <td>25998</td>\n",
       "      <td>0.017089</td>\n",
       "      <td>0.983611</td>\n",
       "      <td>0.733766</td>\n",
       "      <td>0.725370</td>\n",
       "      <td>0.011508</td>\n",
       "      <td>0.000357</td>\n",
       "    </tr>\n",
       "    <tr>\n",
       "      <th>5</th>\n",
       "      <td>CODE_GENDER_NUM</td>\n",
       "      <td>1</td>\n",
       "      <td>24430</td>\n",
       "      <td>379</td>\n",
       "      <td>24051</td>\n",
       "      <td>0.019706</td>\n",
       "      <td>0.984486</td>\n",
       "      <td>0.615260</td>\n",
       "      <td>0.671047</td>\n",
       "      <td>0.156654</td>\n",
       "      <td>0.013581</td>\n",
       "    </tr>\n",
       "    <tr>\n",
       "      <th>6</th>\n",
       "      <td>EDUCATION_LEVEL</td>\n",
       "      <td>5</td>\n",
       "      <td>24777</td>\n",
       "      <td>402</td>\n",
       "      <td>24375</td>\n",
       "      <td>0.026738</td>\n",
       "      <td>1.000000</td>\n",
       "      <td>0.652597</td>\n",
       "      <td>0.680087</td>\n",
       "      <td>0.469032</td>\n",
       "      <td>0.009209</td>\n",
       "    </tr>\n",
       "    <tr>\n",
       "      <th>7</th>\n",
       "      <td>FLAG_EMAIL</td>\n",
       "      <td>1</td>\n",
       "      <td>33186</td>\n",
       "      <td>564</td>\n",
       "      <td>32622</td>\n",
       "      <td>0.016995</td>\n",
       "      <td>0.984103</td>\n",
       "      <td>0.915584</td>\n",
       "      <td>0.910187</td>\n",
       "      <td>0.005913</td>\n",
       "      <td>0.000366</td>\n",
       "    </tr>\n",
       "    <tr>\n",
       "      <th>8</th>\n",
       "      <td>FLAG_MOBIL</td>\n",
       "      <td>1</td>\n",
       "      <td>36457</td>\n",
       "      <td>616</td>\n",
       "      <td>35841</td>\n",
       "      <td>0.016897</td>\n",
       "      <td>0.983103</td>\n",
       "      <td>1.000000</td>\n",
       "      <td>1.000000</td>\n",
       "      <td>0.000000</td>\n",
       "      <td>0.000000</td>\n",
       "    </tr>\n",
       "    <tr>\n",
       "      <th>9</th>\n",
       "      <td>FLAG_OWN_CAR_NUM</td>\n",
       "      <td>1</td>\n",
       "      <td>22614</td>\n",
       "      <td>392</td>\n",
       "      <td>22222</td>\n",
       "      <td>0.017334</td>\n",
       "      <td>0.983819</td>\n",
       "      <td>0.636364</td>\n",
       "      <td>0.620016</td>\n",
       "      <td>0.026025</td>\n",
       "      <td>0.001144</td>\n",
       "    </tr>\n",
       "    <tr>\n",
       "      <th>10</th>\n",
       "      <td>FLAG_OWN_REALTY_NUM</td>\n",
       "      <td>1</td>\n",
       "      <td>24506</td>\n",
       "      <td>365</td>\n",
       "      <td>24141</td>\n",
       "      <td>0.021002</td>\n",
       "      <td>0.985106</td>\n",
       "      <td>0.592532</td>\n",
       "      <td>0.673558</td>\n",
       "      <td>0.221710</td>\n",
       "      <td>0.028349</td>\n",
       "    </tr>\n",
       "    <tr>\n",
       "      <th>11</th>\n",
       "      <td>FLAG_PHONE</td>\n",
       "      <td>1</td>\n",
       "      <td>25709</td>\n",
       "      <td>431</td>\n",
       "      <td>25278</td>\n",
       "      <td>0.017213</td>\n",
       "      <td>0.983235</td>\n",
       "      <td>0.699675</td>\n",
       "      <td>0.705282</td>\n",
       "      <td>0.018844</td>\n",
       "      <td>0.000150</td>\n",
       "    </tr>\n",
       "    <tr>\n",
       "      <th>12</th>\n",
       "      <td>FLAG_WORK_PHONE</td>\n",
       "      <td>1</td>\n",
       "      <td>28235</td>\n",
       "      <td>466</td>\n",
       "      <td>27769</td>\n",
       "      <td>0.018244</td>\n",
       "      <td>0.983496</td>\n",
       "      <td>0.756494</td>\n",
       "      <td>0.774783</td>\n",
       "      <td>0.078080</td>\n",
       "      <td>0.001865</td>\n",
       "    </tr>\n",
       "    <tr>\n",
       "      <th>13</th>\n",
       "      <td>NAME_FAMILY_STATUS</td>\n",
       "      <td>Widow</td>\n",
       "      <td>25048</td>\n",
       "      <td>393</td>\n",
       "      <td>24655</td>\n",
       "      <td>0.029373</td>\n",
       "      <td>0.985259</td>\n",
       "      <td>0.637987</td>\n",
       "      <td>0.687899</td>\n",
       "      <td>0.565747</td>\n",
       "      <td>0.030119</td>\n",
       "    </tr>\n",
       "    <tr>\n",
       "      <th>14</th>\n",
       "      <td>NAME_HOUSING_TYPE</td>\n",
       "      <td>With parents</td>\n",
       "      <td>32548</td>\n",
       "      <td>540</td>\n",
       "      <td>32008</td>\n",
       "      <td>0.034351</td>\n",
       "      <td>0.986087</td>\n",
       "      <td>0.876623</td>\n",
       "      <td>0.893055</td>\n",
       "      <td>0.727436</td>\n",
       "      <td>0.015711</td>\n",
       "    </tr>\n",
       "    <tr>\n",
       "      <th>15</th>\n",
       "      <td>NAME_INCOME_TYPE</td>\n",
       "      <td>Working</td>\n",
       "      <td>18819</td>\n",
       "      <td>306</td>\n",
       "      <td>18513</td>\n",
       "      <td>0.021131</td>\n",
       "      <td>1.000000</td>\n",
       "      <td>0.496753</td>\n",
       "      <td>0.516531</td>\n",
       "      <td>0.227961</td>\n",
       "      <td>0.017556</td>\n",
       "    </tr>\n",
       "    <tr>\n",
       "      <th>16</th>\n",
       "      <td>OCCUPATION_TYPE</td>\n",
       "      <td>Waiters/barmen staff</td>\n",
       "      <td>11323</td>\n",
       "      <td>194</td>\n",
       "      <td>11129</td>\n",
       "      <td>0.050000</td>\n",
       "      <td>1.000000</td>\n",
       "      <td>0.314935</td>\n",
       "      <td>0.310510</td>\n",
       "      <td>1.119162</td>\n",
       "      <td>0.060582</td>\n",
       "    </tr>\n",
       "  </tbody>\n",
       "</table>\n",
       "</div>"
      ],
      "text/plain": [
       "          Variable_Name               Category  Count  Event  Non_Event  \\\n",
       "0                   AGE        (49.548, 68.91]  12156    216      11963   \n",
       "1          AGE_EMPLOYED        (6.882, 43.049]  12174    247      11962   \n",
       "2      AMT_INCOME_TOTAL  (202500.0, 1575000.0]  14473    257      14216   \n",
       "3          CNT_CHILDREN            (1.0, 19.0]  32693    551      32142   \n",
       "4       CNT_FAM_MEMBERS            (2.0, 20.0]  26450    452      25998   \n",
       "5       CODE_GENDER_NUM                      1  24430    379      24051   \n",
       "6       EDUCATION_LEVEL                      5  24777    402      24375   \n",
       "7            FLAG_EMAIL                      1  33186    564      32622   \n",
       "8            FLAG_MOBIL                      1  36457    616      35841   \n",
       "9      FLAG_OWN_CAR_NUM                      1  22614    392      22222   \n",
       "10  FLAG_OWN_REALTY_NUM                      1  24506    365      24141   \n",
       "11           FLAG_PHONE                      1  25709    431      25278   \n",
       "12      FLAG_WORK_PHONE                      1  28235    466      27769   \n",
       "13   NAME_FAMILY_STATUS                  Widow  25048    393      24655   \n",
       "14    NAME_HOUSING_TYPE           With parents  32548    540      32008   \n",
       "15     NAME_INCOME_TYPE                Working  18819    306      18513   \n",
       "16      OCCUPATION_TYPE   Waiters/barmen staff  11323    194      11129   \n",
       "\n",
       "    Event_Rate  Non_Event_Rate  Event_Distribution  Non_Event_Distribution  \\\n",
       "0     0.017769        0.984690            0.350649                0.333780   \n",
       "1     0.020289        0.986313            0.400974                0.333752   \n",
       "2     0.017757        0.984582            0.417208                0.396641   \n",
       "3     0.017269        0.983146            0.894481                0.896794   \n",
       "4     0.017089        0.983611            0.733766                0.725370   \n",
       "5     0.019706        0.984486            0.615260                0.671047   \n",
       "6     0.026738        1.000000            0.652597                0.680087   \n",
       "7     0.016995        0.984103            0.915584                0.910187   \n",
       "8     0.016897        0.983103            1.000000                1.000000   \n",
       "9     0.017334        0.983819            0.636364                0.620016   \n",
       "10    0.021002        0.985106            0.592532                0.673558   \n",
       "11    0.017213        0.983235            0.699675                0.705282   \n",
       "12    0.018244        0.983496            0.756494                0.774783   \n",
       "13    0.029373        0.985259            0.637987                0.687899   \n",
       "14    0.034351        0.986087            0.876623                0.893055   \n",
       "15    0.021131        1.000000            0.496753                0.516531   \n",
       "16    0.050000        1.000000            0.314935                0.310510   \n",
       "\n",
       "         WOE  Information_Value  \n",
       "0   0.051230           0.004690  \n",
       "1   0.186429           0.026508  \n",
       "2   0.050554           0.003572  \n",
       "3   0.022170           0.000057  \n",
       "4   0.011508           0.000357  \n",
       "5   0.156654           0.013581  \n",
       "6   0.469032           0.009209  \n",
       "7   0.005913           0.000366  \n",
       "8   0.000000           0.000000  \n",
       "9   0.026025           0.001144  \n",
       "10  0.221710           0.028349  \n",
       "11  0.018844           0.000150  \n",
       "12  0.078080           0.001865  \n",
       "13  0.565747           0.030119  \n",
       "14  0.727436           0.015711  \n",
       "15  0.227961           0.017556  \n",
       "16  1.119162           0.060582  "
      ]
     },
     "execution_count": 53,
     "metadata": {},
     "output_type": "execute_result"
    }
   ],
   "source": [
    "woe_df.groupby('Variable_Name').max().reset_index()"
   ]
  },
  {
   "cell_type": "markdown",
   "metadata": {},
   "source": [
    "#### We can remove CNT_CHILDREN, CNT_FEM_MEMBERS, FLAG_EMAIL, FLAG_MOBIL, FLAG_OWN_CAR_NUM,  FLAG_PHONE,  FLAG_WORK_PHONE"
   ]
  },
  {
   "cell_type": "code",
   "execution_count": 54,
   "metadata": {},
   "outputs": [],
   "source": [
    "df = df.drop('CNT_CHILDREN', 'CNT_FAM_MEMBERS', 'FLAG_EMAIL', 'FLAG_MOBIL', 'FLAG_OWN_CAR_NUM',  'FLAG_PHONE',  'FLAG_WORK_PHONE')"
   ]
  },
  {
   "cell_type": "code",
   "execution_count": 55,
   "metadata": {},
   "outputs": [
    {
     "name": "stderr",
     "output_type": "stream",
     "text": [
      "/home/ec2-user/.local/lib/python3.7/site-packages/pandas/core/series.py:726: RuntimeWarning: divide by zero encountered in log\n",
      "  result = getattr(ufunc, method)(*inputs, **kwargs)\n"
     ]
    }
   ],
   "source": [
    "df_pd = df.toPandas()\n",
    "clf = WOE()\n",
    "clf.fit(df_pd.drop(columns=['ID','DELENQUENT']), df_pd['DELENQUENT'])\n",
    "woe_df = clf.woe_df"
   ]
  },
  {
   "cell_type": "code",
   "execution_count": 56,
   "metadata": {},
   "outputs": [
    {
     "data": {
      "text/html": [
       "<div>\n",
       "<style scoped>\n",
       "    .dataframe tbody tr th:only-of-type {\n",
       "        vertical-align: middle;\n",
       "    }\n",
       "\n",
       "    .dataframe tbody tr th {\n",
       "        vertical-align: top;\n",
       "    }\n",
       "\n",
       "    .dataframe thead th {\n",
       "        text-align: right;\n",
       "    }\n",
       "</style>\n",
       "<table border=\"1\" class=\"dataframe\">\n",
       "  <thead>\n",
       "    <tr style=\"text-align: right;\">\n",
       "      <th></th>\n",
       "      <th>Variable_Name</th>\n",
       "      <th>Category</th>\n",
       "      <th>Count</th>\n",
       "      <th>Event</th>\n",
       "      <th>Non_Event</th>\n",
       "      <th>Event_Rate</th>\n",
       "      <th>Non_Event_Rate</th>\n",
       "      <th>Event_Distribution</th>\n",
       "      <th>Non_Event_Distribution</th>\n",
       "      <th>WOE</th>\n",
       "      <th>Information_Value</th>\n",
       "    </tr>\n",
       "  </thead>\n",
       "  <tbody>\n",
       "    <tr>\n",
       "      <th>0</th>\n",
       "      <td>AGE</td>\n",
       "      <td>(49.548, 68.91]</td>\n",
       "      <td>12156</td>\n",
       "      <td>216</td>\n",
       "      <td>11963</td>\n",
       "      <td>0.017769</td>\n",
       "      <td>0.984690</td>\n",
       "      <td>0.350649</td>\n",
       "      <td>0.333780</td>\n",
       "      <td>0.051230</td>\n",
       "      <td>0.004690</td>\n",
       "    </tr>\n",
       "    <tr>\n",
       "      <th>1</th>\n",
       "      <td>AGE_EMPLOYED</td>\n",
       "      <td>(6.882, 43.049]</td>\n",
       "      <td>12174</td>\n",
       "      <td>247</td>\n",
       "      <td>11962</td>\n",
       "      <td>0.020289</td>\n",
       "      <td>0.986313</td>\n",
       "      <td>0.400974</td>\n",
       "      <td>0.333752</td>\n",
       "      <td>0.186429</td>\n",
       "      <td>0.026508</td>\n",
       "    </tr>\n",
       "    <tr>\n",
       "      <th>2</th>\n",
       "      <td>AMT_INCOME_TOTAL</td>\n",
       "      <td>(202500.0, 1575000.0]</td>\n",
       "      <td>14473</td>\n",
       "      <td>257</td>\n",
       "      <td>14216</td>\n",
       "      <td>0.017757</td>\n",
       "      <td>0.984582</td>\n",
       "      <td>0.417208</td>\n",
       "      <td>0.396641</td>\n",
       "      <td>0.050554</td>\n",
       "      <td>0.003572</td>\n",
       "    </tr>\n",
       "    <tr>\n",
       "      <th>3</th>\n",
       "      <td>CODE_GENDER_NUM</td>\n",
       "      <td>1</td>\n",
       "      <td>24430</td>\n",
       "      <td>379</td>\n",
       "      <td>24051</td>\n",
       "      <td>0.019706</td>\n",
       "      <td>0.984486</td>\n",
       "      <td>0.615260</td>\n",
       "      <td>0.671047</td>\n",
       "      <td>0.156654</td>\n",
       "      <td>0.013581</td>\n",
       "    </tr>\n",
       "    <tr>\n",
       "      <th>4</th>\n",
       "      <td>EDUCATION_LEVEL</td>\n",
       "      <td>5</td>\n",
       "      <td>24777</td>\n",
       "      <td>402</td>\n",
       "      <td>24375</td>\n",
       "      <td>0.026738</td>\n",
       "      <td>1.000000</td>\n",
       "      <td>0.652597</td>\n",
       "      <td>0.680087</td>\n",
       "      <td>0.469032</td>\n",
       "      <td>0.009209</td>\n",
       "    </tr>\n",
       "    <tr>\n",
       "      <th>5</th>\n",
       "      <td>FLAG_OWN_REALTY_NUM</td>\n",
       "      <td>1</td>\n",
       "      <td>24506</td>\n",
       "      <td>365</td>\n",
       "      <td>24141</td>\n",
       "      <td>0.021002</td>\n",
       "      <td>0.985106</td>\n",
       "      <td>0.592532</td>\n",
       "      <td>0.673558</td>\n",
       "      <td>0.221710</td>\n",
       "      <td>0.028349</td>\n",
       "    </tr>\n",
       "    <tr>\n",
       "      <th>6</th>\n",
       "      <td>NAME_FAMILY_STATUS</td>\n",
       "      <td>Widow</td>\n",
       "      <td>25048</td>\n",
       "      <td>393</td>\n",
       "      <td>24655</td>\n",
       "      <td>0.029373</td>\n",
       "      <td>0.985259</td>\n",
       "      <td>0.637987</td>\n",
       "      <td>0.687899</td>\n",
       "      <td>0.565747</td>\n",
       "      <td>0.030119</td>\n",
       "    </tr>\n",
       "    <tr>\n",
       "      <th>7</th>\n",
       "      <td>NAME_HOUSING_TYPE</td>\n",
       "      <td>With parents</td>\n",
       "      <td>32548</td>\n",
       "      <td>540</td>\n",
       "      <td>32008</td>\n",
       "      <td>0.034351</td>\n",
       "      <td>0.986087</td>\n",
       "      <td>0.876623</td>\n",
       "      <td>0.893055</td>\n",
       "      <td>0.727436</td>\n",
       "      <td>0.015711</td>\n",
       "    </tr>\n",
       "    <tr>\n",
       "      <th>8</th>\n",
       "      <td>NAME_INCOME_TYPE</td>\n",
       "      <td>Working</td>\n",
       "      <td>18819</td>\n",
       "      <td>306</td>\n",
       "      <td>18513</td>\n",
       "      <td>0.021131</td>\n",
       "      <td>1.000000</td>\n",
       "      <td>0.496753</td>\n",
       "      <td>0.516531</td>\n",
       "      <td>0.227961</td>\n",
       "      <td>0.017556</td>\n",
       "    </tr>\n",
       "    <tr>\n",
       "      <th>9</th>\n",
       "      <td>OCCUPATION_TYPE</td>\n",
       "      <td>Waiters/barmen staff</td>\n",
       "      <td>11323</td>\n",
       "      <td>194</td>\n",
       "      <td>11129</td>\n",
       "      <td>0.050000</td>\n",
       "      <td>1.000000</td>\n",
       "      <td>0.314935</td>\n",
       "      <td>0.310510</td>\n",
       "      <td>1.119162</td>\n",
       "      <td>0.060582</td>\n",
       "    </tr>\n",
       "  </tbody>\n",
       "</table>\n",
       "</div>"
      ],
      "text/plain": [
       "         Variable_Name               Category  Count  Event  Non_Event  \\\n",
       "0                  AGE        (49.548, 68.91]  12156    216      11963   \n",
       "1         AGE_EMPLOYED        (6.882, 43.049]  12174    247      11962   \n",
       "2     AMT_INCOME_TOTAL  (202500.0, 1575000.0]  14473    257      14216   \n",
       "3      CODE_GENDER_NUM                      1  24430    379      24051   \n",
       "4      EDUCATION_LEVEL                      5  24777    402      24375   \n",
       "5  FLAG_OWN_REALTY_NUM                      1  24506    365      24141   \n",
       "6   NAME_FAMILY_STATUS                  Widow  25048    393      24655   \n",
       "7    NAME_HOUSING_TYPE           With parents  32548    540      32008   \n",
       "8     NAME_INCOME_TYPE                Working  18819    306      18513   \n",
       "9      OCCUPATION_TYPE   Waiters/barmen staff  11323    194      11129   \n",
       "\n",
       "   Event_Rate  Non_Event_Rate  Event_Distribution  Non_Event_Distribution  \\\n",
       "0    0.017769        0.984690            0.350649                0.333780   \n",
       "1    0.020289        0.986313            0.400974                0.333752   \n",
       "2    0.017757        0.984582            0.417208                0.396641   \n",
       "3    0.019706        0.984486            0.615260                0.671047   \n",
       "4    0.026738        1.000000            0.652597                0.680087   \n",
       "5    0.021002        0.985106            0.592532                0.673558   \n",
       "6    0.029373        0.985259            0.637987                0.687899   \n",
       "7    0.034351        0.986087            0.876623                0.893055   \n",
       "8    0.021131        1.000000            0.496753                0.516531   \n",
       "9    0.050000        1.000000            0.314935                0.310510   \n",
       "\n",
       "        WOE  Information_Value  \n",
       "0  0.051230           0.004690  \n",
       "1  0.186429           0.026508  \n",
       "2  0.050554           0.003572  \n",
       "3  0.156654           0.013581  \n",
       "4  0.469032           0.009209  \n",
       "5  0.221710           0.028349  \n",
       "6  0.565747           0.030119  \n",
       "7  0.727436           0.015711  \n",
       "8  0.227961           0.017556  \n",
       "9  1.119162           0.060582  "
      ]
     },
     "execution_count": 56,
     "metadata": {},
     "output_type": "execute_result"
    }
   ],
   "source": [
    "woe_df.groupby('Variable_Name').max().reset_index()"
   ]
  },
  {
   "cell_type": "code",
   "execution_count": 57,
   "metadata": {},
   "outputs": [
    {
     "data": {
      "text/html": [
       "<div>\n",
       "<style scoped>\n",
       "    .dataframe tbody tr th:only-of-type {\n",
       "        vertical-align: middle;\n",
       "    }\n",
       "\n",
       "    .dataframe tbody tr th {\n",
       "        vertical-align: top;\n",
       "    }\n",
       "\n",
       "    .dataframe thead th {\n",
       "        text-align: right;\n",
       "    }\n",
       "</style>\n",
       "<table border=\"1\" class=\"dataframe\">\n",
       "  <thead>\n",
       "    <tr style=\"text-align: right;\">\n",
       "      <th></th>\n",
       "      <th>Variable_Name</th>\n",
       "      <th>Category</th>\n",
       "      <th>Count</th>\n",
       "      <th>Event</th>\n",
       "      <th>Non_Event</th>\n",
       "      <th>Event_Rate</th>\n",
       "      <th>Non_Event_Rate</th>\n",
       "      <th>Event_Distribution</th>\n",
       "      <th>Non_Event_Distribution</th>\n",
       "      <th>WOE</th>\n",
       "      <th>Information_Value</th>\n",
       "    </tr>\n",
       "  </thead>\n",
       "  <tbody>\n",
       "    <tr>\n",
       "      <th>0</th>\n",
       "      <td>AGE</td>\n",
       "      <td>(20.517, 37.11]</td>\n",
       "      <td>12156</td>\n",
       "      <td>216</td>\n",
       "      <td>11940</td>\n",
       "      <td>0.017769</td>\n",
       "      <td>0.982231</td>\n",
       "      <td>0.350649</td>\n",
       "      <td>0.333138</td>\n",
       "      <td>0.051230</td>\n",
       "      <td>0.00469</td>\n",
       "    </tr>\n",
       "    <tr>\n",
       "      <th>1</th>\n",
       "      <td>AGE</td>\n",
       "      <td>(37.11, 49.548]</td>\n",
       "      <td>12149</td>\n",
       "      <td>186</td>\n",
       "      <td>11963</td>\n",
       "      <td>0.015310</td>\n",
       "      <td>0.984690</td>\n",
       "      <td>0.301948</td>\n",
       "      <td>0.333780</td>\n",
       "      <td>-0.100226</td>\n",
       "      <td>0.00469</td>\n",
       "    </tr>\n",
       "    <tr>\n",
       "      <th>2</th>\n",
       "      <td>AGE</td>\n",
       "      <td>(49.548, 68.91]</td>\n",
       "      <td>12152</td>\n",
       "      <td>214</td>\n",
       "      <td>11938</td>\n",
       "      <td>0.017610</td>\n",
       "      <td>0.982390</td>\n",
       "      <td>0.347403</td>\n",
       "      <td>0.333082</td>\n",
       "      <td>0.042095</td>\n",
       "      <td>0.00469</td>\n",
       "    </tr>\n",
       "  </tbody>\n",
       "</table>\n",
       "</div>"
      ],
      "text/plain": [
       "  Variable_Name         Category  Count  Event  Non_Event  Event_Rate  \\\n",
       "0           AGE  (20.517, 37.11]  12156    216      11940    0.017769   \n",
       "1           AGE  (37.11, 49.548]  12149    186      11963    0.015310   \n",
       "2           AGE  (49.548, 68.91]  12152    214      11938    0.017610   \n",
       "\n",
       "   Non_Event_Rate  Event_Distribution  Non_Event_Distribution       WOE  \\\n",
       "0        0.982231            0.350649                0.333138  0.051230   \n",
       "1        0.984690            0.301948                0.333780 -0.100226   \n",
       "2        0.982390            0.347403                0.333082  0.042095   \n",
       "\n",
       "   Information_Value  \n",
       "0            0.00469  \n",
       "1            0.00469  \n",
       "2            0.00469  "
      ]
     },
     "execution_count": 57,
     "metadata": {},
     "output_type": "execute_result"
    }
   ],
   "source": [
    "woe_df[woe_df[\"Variable_Name\"] == 'AGE']"
   ]
  },
  {
   "cell_type": "code",
   "execution_count": 58,
   "metadata": {},
   "outputs": [],
   "source": [
    "#replace woe value to corresponding field\n",
    "df = df.withColumn('AGE_WOE', when((df.AGE >= 20.517) & (df.AGE <= 37.11), 0.051230)\\\n",
    "              .otherwise(when((df.AGE > 37.11) & (df.AGE <= 49.548), -0.100226)\\\n",
    "                         .otherwise(when((df.AGE > 49.548) & (df.AGE <= 68.91), 0.042095))))"
   ]
  },
  {
   "cell_type": "code",
   "execution_count": 59,
   "metadata": {},
   "outputs": [
    {
     "data": {
      "text/html": [
       "<div>\n",
       "<style scoped>\n",
       "    .dataframe tbody tr th:only-of-type {\n",
       "        vertical-align: middle;\n",
       "    }\n",
       "\n",
       "    .dataframe tbody tr th {\n",
       "        vertical-align: top;\n",
       "    }\n",
       "\n",
       "    .dataframe thead th {\n",
       "        text-align: right;\n",
       "    }\n",
       "</style>\n",
       "<table border=\"1\" class=\"dataframe\">\n",
       "  <thead>\n",
       "    <tr style=\"text-align: right;\">\n",
       "      <th></th>\n",
       "      <th>Variable_Name</th>\n",
       "      <th>Category</th>\n",
       "      <th>Count</th>\n",
       "      <th>Event</th>\n",
       "      <th>Non_Event</th>\n",
       "      <th>Event_Rate</th>\n",
       "      <th>Non_Event_Rate</th>\n",
       "      <th>Event_Distribution</th>\n",
       "      <th>Non_Event_Distribution</th>\n",
       "      <th>WOE</th>\n",
       "      <th>Information_Value</th>\n",
       "    </tr>\n",
       "  </thead>\n",
       "  <tbody>\n",
       "    <tr>\n",
       "      <th>3</th>\n",
       "      <td>AGE_EMPLOYED</td>\n",
       "      <td>(-1000.667, 2.088]</td>\n",
       "      <td>12174</td>\n",
       "      <td>247</td>\n",
       "      <td>11927</td>\n",
       "      <td>0.020289</td>\n",
       "      <td>0.979711</td>\n",
       "      <td>0.400974</td>\n",
       "      <td>0.332775</td>\n",
       "      <td>0.186429</td>\n",
       "      <td>0.026508</td>\n",
       "    </tr>\n",
       "    <tr>\n",
       "      <th>4</th>\n",
       "      <td>AGE_EMPLOYED</td>\n",
       "      <td>(2.088, 6.882]</td>\n",
       "      <td>12155</td>\n",
       "      <td>203</td>\n",
       "      <td>11952</td>\n",
       "      <td>0.016701</td>\n",
       "      <td>0.983299</td>\n",
       "      <td>0.329545</td>\n",
       "      <td>0.333473</td>\n",
       "      <td>-0.011847</td>\n",
       "      <td>0.026508</td>\n",
       "    </tr>\n",
       "    <tr>\n",
       "      <th>5</th>\n",
       "      <td>AGE_EMPLOYED</td>\n",
       "      <td>(6.882, 43.049]</td>\n",
       "      <td>12128</td>\n",
       "      <td>166</td>\n",
       "      <td>11962</td>\n",
       "      <td>0.013687</td>\n",
       "      <td>0.986313</td>\n",
       "      <td>0.269481</td>\n",
       "      <td>0.333752</td>\n",
       "      <td>-0.213902</td>\n",
       "      <td>0.026508</td>\n",
       "    </tr>\n",
       "  </tbody>\n",
       "</table>\n",
       "</div>"
      ],
      "text/plain": [
       "  Variable_Name            Category  Count  Event  Non_Event  Event_Rate  \\\n",
       "3  AGE_EMPLOYED  (-1000.667, 2.088]  12174    247      11927    0.020289   \n",
       "4  AGE_EMPLOYED      (2.088, 6.882]  12155    203      11952    0.016701   \n",
       "5  AGE_EMPLOYED     (6.882, 43.049]  12128    166      11962    0.013687   \n",
       "\n",
       "   Non_Event_Rate  Event_Distribution  Non_Event_Distribution       WOE  \\\n",
       "3        0.979711            0.400974                0.332775  0.186429   \n",
       "4        0.983299            0.329545                0.333473 -0.011847   \n",
       "5        0.986313            0.269481                0.333752 -0.213902   \n",
       "\n",
       "   Information_Value  \n",
       "3           0.026508  \n",
       "4           0.026508  \n",
       "5           0.026508  "
      ]
     },
     "execution_count": 59,
     "metadata": {},
     "output_type": "execute_result"
    }
   ],
   "source": [
    "woe_df[woe_df[\"Variable_Name\"] == 'AGE_EMPLOYED']"
   ]
  },
  {
   "cell_type": "code",
   "execution_count": 60,
   "metadata": {},
   "outputs": [],
   "source": [
    "#replace woe value to corresponding field\n",
    "df = df.withColumn('AGE_EMPLOYED_WOE', when((df.AGE_EMPLOYED >= -1000.667) & (df.AGE_EMPLOYED <= 2.088), 0.186429)\\\n",
    "              .otherwise(when((df.AGE_EMPLOYED > 2.088) & (df.AGE_EMPLOYED <= 6.882), -0.011847)\\\n",
    "                         .otherwise(when((df.AGE_EMPLOYED > 6.882) & (df.AGE_EMPLOYED <= 43.049), -0.213902))))"
   ]
  },
  {
   "cell_type": "code",
   "execution_count": 61,
   "metadata": {},
   "outputs": [
    {
     "data": {
      "text/html": [
       "<div>\n",
       "<style scoped>\n",
       "    .dataframe tbody tr th:only-of-type {\n",
       "        vertical-align: middle;\n",
       "    }\n",
       "\n",
       "    .dataframe tbody tr th {\n",
       "        vertical-align: top;\n",
       "    }\n",
       "\n",
       "    .dataframe thead th {\n",
       "        text-align: right;\n",
       "    }\n",
       "</style>\n",
       "<table border=\"1\" class=\"dataframe\">\n",
       "  <thead>\n",
       "    <tr style=\"text-align: right;\">\n",
       "      <th></th>\n",
       "      <th>Variable_Name</th>\n",
       "      <th>Category</th>\n",
       "      <th>Count</th>\n",
       "      <th>Event</th>\n",
       "      <th>Non_Event</th>\n",
       "      <th>Event_Rate</th>\n",
       "      <th>Non_Event_Rate</th>\n",
       "      <th>Event_Distribution</th>\n",
       "      <th>Non_Event_Distribution</th>\n",
       "      <th>WOE</th>\n",
       "      <th>Information_Value</th>\n",
       "    </tr>\n",
       "  </thead>\n",
       "  <tbody>\n",
       "    <tr>\n",
       "      <th>6</th>\n",
       "      <td>AMT_INCOME_TOTAL</td>\n",
       "      <td>(26999.999, 135000.0]</td>\n",
       "      <td>14473</td>\n",
       "      <td>257</td>\n",
       "      <td>14216</td>\n",
       "      <td>0.017757</td>\n",
       "      <td>0.982243</td>\n",
       "      <td>0.417208</td>\n",
       "      <td>0.396641</td>\n",
       "      <td>0.050554</td>\n",
       "      <td>0.003572</td>\n",
       "    </tr>\n",
       "    <tr>\n",
       "      <th>7</th>\n",
       "      <td>AMT_INCOME_TOTAL</td>\n",
       "      <td>(135000.0, 202500.0]</td>\n",
       "      <td>10702</td>\n",
       "      <td>165</td>\n",
       "      <td>10537</td>\n",
       "      <td>0.015418</td>\n",
       "      <td>0.984582</td>\n",
       "      <td>0.267857</td>\n",
       "      <td>0.293993</td>\n",
       "      <td>-0.093102</td>\n",
       "      <td>0.003572</td>\n",
       "    </tr>\n",
       "    <tr>\n",
       "      <th>8</th>\n",
       "      <td>AMT_INCOME_TOTAL</td>\n",
       "      <td>(202500.0, 1575000.0]</td>\n",
       "      <td>11282</td>\n",
       "      <td>194</td>\n",
       "      <td>11088</td>\n",
       "      <td>0.017196</td>\n",
       "      <td>0.982804</td>\n",
       "      <td>0.314935</td>\n",
       "      <td>0.309366</td>\n",
       "      <td>0.017840</td>\n",
       "      <td>0.003572</td>\n",
       "    </tr>\n",
       "  </tbody>\n",
       "</table>\n",
       "</div>"
      ],
      "text/plain": [
       "      Variable_Name               Category  Count  Event  Non_Event  \\\n",
       "6  AMT_INCOME_TOTAL  (26999.999, 135000.0]  14473    257      14216   \n",
       "7  AMT_INCOME_TOTAL   (135000.0, 202500.0]  10702    165      10537   \n",
       "8  AMT_INCOME_TOTAL  (202500.0, 1575000.0]  11282    194      11088   \n",
       "\n",
       "   Event_Rate  Non_Event_Rate  Event_Distribution  Non_Event_Distribution  \\\n",
       "6    0.017757        0.982243            0.417208                0.396641   \n",
       "7    0.015418        0.984582            0.267857                0.293993   \n",
       "8    0.017196        0.982804            0.314935                0.309366   \n",
       "\n",
       "        WOE  Information_Value  \n",
       "6  0.050554           0.003572  \n",
       "7 -0.093102           0.003572  \n",
       "8  0.017840           0.003572  "
      ]
     },
     "execution_count": 61,
     "metadata": {},
     "output_type": "execute_result"
    }
   ],
   "source": [
    "woe_df[woe_df[\"Variable_Name\"] == 'AMT_INCOME_TOTAL']"
   ]
  },
  {
   "cell_type": "code",
   "execution_count": 62,
   "metadata": {},
   "outputs": [],
   "source": [
    "#replace woe value to corresponding field\n",
    "df = df.withColumn('AMT_INCOME_TOTAL_WOE', when((df.AMT_INCOME_TOTAL >= 26999.999) & (df.AMT_INCOME_TOTAL <= 135000.0), 0.050554)\\\n",
    "              .otherwise(when((df.AMT_INCOME_TOTAL > 135000.0) & (df.AMT_INCOME_TOTAL <= 202500.0), -0.093102)\\\n",
    "                         .otherwise(when((df.AMT_INCOME_TOTAL > 202500.0) & (df.AMT_INCOME_TOTAL <= 1575000.0), 0.017840))))"
   ]
  },
  {
   "cell_type": "code",
   "execution_count": 63,
   "metadata": {},
   "outputs": [
    {
     "data": {
      "text/html": [
       "<div>\n",
       "<style scoped>\n",
       "    .dataframe tbody tr th:only-of-type {\n",
       "        vertical-align: middle;\n",
       "    }\n",
       "\n",
       "    .dataframe tbody tr th {\n",
       "        vertical-align: top;\n",
       "    }\n",
       "\n",
       "    .dataframe thead th {\n",
       "        text-align: right;\n",
       "    }\n",
       "</style>\n",
       "<table border=\"1\" class=\"dataframe\">\n",
       "  <thead>\n",
       "    <tr style=\"text-align: right;\">\n",
       "      <th></th>\n",
       "      <th>Variable_Name</th>\n",
       "      <th>Category</th>\n",
       "      <th>Count</th>\n",
       "      <th>Event</th>\n",
       "      <th>Non_Event</th>\n",
       "      <th>Event_Rate</th>\n",
       "      <th>Non_Event_Rate</th>\n",
       "      <th>Event_Distribution</th>\n",
       "      <th>Non_Event_Distribution</th>\n",
       "      <th>WOE</th>\n",
       "      <th>Information_Value</th>\n",
       "    </tr>\n",
       "  </thead>\n",
       "  <tbody>\n",
       "    <tr>\n",
       "      <th>9</th>\n",
       "      <td>CODE_GENDER_NUM</td>\n",
       "      <td>0</td>\n",
       "      <td>24430</td>\n",
       "      <td>379</td>\n",
       "      <td>24051</td>\n",
       "      <td>0.015514</td>\n",
       "      <td>0.984486</td>\n",
       "      <td>0.61526</td>\n",
       "      <td>0.671047</td>\n",
       "      <td>-0.086795</td>\n",
       "      <td>0.013581</td>\n",
       "    </tr>\n",
       "    <tr>\n",
       "      <th>10</th>\n",
       "      <td>CODE_GENDER_NUM</td>\n",
       "      <td>1</td>\n",
       "      <td>12027</td>\n",
       "      <td>237</td>\n",
       "      <td>11790</td>\n",
       "      <td>0.019706</td>\n",
       "      <td>0.980294</td>\n",
       "      <td>0.38474</td>\n",
       "      <td>0.328953</td>\n",
       "      <td>0.156654</td>\n",
       "      <td>0.013581</td>\n",
       "    </tr>\n",
       "  </tbody>\n",
       "</table>\n",
       "</div>"
      ],
      "text/plain": [
       "      Variable_Name Category  Count  Event  Non_Event  Event_Rate  \\\n",
       "9   CODE_GENDER_NUM        0  24430    379      24051    0.015514   \n",
       "10  CODE_GENDER_NUM        1  12027    237      11790    0.019706   \n",
       "\n",
       "    Non_Event_Rate  Event_Distribution  Non_Event_Distribution       WOE  \\\n",
       "9         0.984486             0.61526                0.671047 -0.086795   \n",
       "10        0.980294             0.38474                0.328953  0.156654   \n",
       "\n",
       "    Information_Value  \n",
       "9            0.013581  \n",
       "10           0.013581  "
      ]
     },
     "execution_count": 63,
     "metadata": {},
     "output_type": "execute_result"
    }
   ],
   "source": [
    "woe_df[woe_df[\"Variable_Name\"] == 'CODE_GENDER_NUM']"
   ]
  },
  {
   "cell_type": "code",
   "execution_count": 64,
   "metadata": {},
   "outputs": [],
   "source": [
    "#Create dictionary and UDF\n",
    "#Key of Dictinary will hold the Category (like 0 or 1 for binary) of a Feature/Column and value will WOE\n",
    "def replaceCategoryToWOE(variable_name):\n",
    "    dict_woe = {}\n",
    "    for index, row in woe_df[woe_df['Variable_Name'] == variable_name].iterrows():\n",
    "        k = row['Category']\n",
    "        v = row['WOE']\n",
    "        dict_woe[k] = v\n",
    "    return dict_woe"
   ]
  },
  {
   "cell_type": "code",
   "execution_count": 65,
   "metadata": {},
   "outputs": [],
   "source": [
    "#UDF that will return the value of the corresponding category of a variable\n",
    "from pyspark.sql.types import IntegerType,DoubleType\n",
    "from pyspark.sql.functions import udf\n",
    "def getWoeValueOfaCatgory(in_dict):\n",
    "    def f(x):\n",
    "        return in_dict.get(x)\n",
    "    return udf(f)"
   ]
  },
  {
   "cell_type": "code",
   "execution_count": 66,
   "metadata": {},
   "outputs": [],
   "source": [
    "#Categorical variables are\n",
    "#1. EDUCATION_LEVEL\n",
    "#2. CODE_GENDER_NUM\n",
    "#3. FLAG_OWN_REALTY_NUM\n",
    "#4. NAME_FAMILY_STATUS\n",
    "#5. NAME_HOUSING_TYPE\n",
    "#6. NAME_INCOME_TYPE\n",
    "#7. OCCUPATION_TYPE"
   ]
  },
  {
   "cell_type": "code",
   "execution_count": null,
   "metadata": {},
   "outputs": [],
   "source": []
  },
  {
   "cell_type": "code",
   "execution_count": 67,
   "metadata": {},
   "outputs": [
    {
     "data": {
      "text/html": [
       "<div>\n",
       "<style scoped>\n",
       "    .dataframe tbody tr th:only-of-type {\n",
       "        vertical-align: middle;\n",
       "    }\n",
       "\n",
       "    .dataframe tbody tr th {\n",
       "        vertical-align: top;\n",
       "    }\n",
       "\n",
       "    .dataframe thead th {\n",
       "        text-align: right;\n",
       "    }\n",
       "</style>\n",
       "<table border=\"1\" class=\"dataframe\">\n",
       "  <thead>\n",
       "    <tr style=\"text-align: right;\">\n",
       "      <th></th>\n",
       "      <th>Variable_Name</th>\n",
       "      <th>Category</th>\n",
       "      <th>Count</th>\n",
       "      <th>Event</th>\n",
       "      <th>Non_Event</th>\n",
       "      <th>Event_Rate</th>\n",
       "      <th>Non_Event_Rate</th>\n",
       "      <th>Event_Distribution</th>\n",
       "      <th>Non_Event_Distribution</th>\n",
       "      <th>WOE</th>\n",
       "      <th>Information_Value</th>\n",
       "    </tr>\n",
       "  </thead>\n",
       "  <tbody>\n",
       "    <tr>\n",
       "      <th>11</th>\n",
       "      <td>EDUCATION_LEVEL</td>\n",
       "      <td>1</td>\n",
       "      <td>374</td>\n",
       "      <td>10</td>\n",
       "      <td>364</td>\n",
       "      <td>0.026738</td>\n",
       "      <td>0.973262</td>\n",
       "      <td>0.016234</td>\n",
       "      <td>0.010156</td>\n",
       "      <td>0.469032</td>\n",
       "      <td>0.009209</td>\n",
       "    </tr>\n",
       "    <tr>\n",
       "      <th>12</th>\n",
       "      <td>EDUCATION_LEVEL</td>\n",
       "      <td>2</td>\n",
       "      <td>24777</td>\n",
       "      <td>402</td>\n",
       "      <td>24375</td>\n",
       "      <td>0.016225</td>\n",
       "      <td>0.983775</td>\n",
       "      <td>0.652597</td>\n",
       "      <td>0.680087</td>\n",
       "      <td>-0.041260</td>\n",
       "      <td>0.009209</td>\n",
       "    </tr>\n",
       "    <tr>\n",
       "      <th>13</th>\n",
       "      <td>EDUCATION_LEVEL</td>\n",
       "      <td>3</td>\n",
       "      <td>1410</td>\n",
       "      <td>33</td>\n",
       "      <td>1377</td>\n",
       "      <td>0.023404</td>\n",
       "      <td>0.976596</td>\n",
       "      <td>0.053571</td>\n",
       "      <td>0.038420</td>\n",
       "      <td>0.332446</td>\n",
       "      <td>0.009209</td>\n",
       "    </tr>\n",
       "    <tr>\n",
       "      <th>14</th>\n",
       "      <td>EDUCATION_LEVEL</td>\n",
       "      <td>4</td>\n",
       "      <td>9864</td>\n",
       "      <td>171</td>\n",
       "      <td>9693</td>\n",
       "      <td>0.017336</td>\n",
       "      <td>0.982664</td>\n",
       "      <td>0.277597</td>\n",
       "      <td>0.270444</td>\n",
       "      <td>0.026105</td>\n",
       "      <td>0.009209</td>\n",
       "    </tr>\n",
       "    <tr>\n",
       "      <th>15</th>\n",
       "      <td>EDUCATION_LEVEL</td>\n",
       "      <td>5</td>\n",
       "      <td>32</td>\n",
       "      <td>0</td>\n",
       "      <td>32</td>\n",
       "      <td>0.000000</td>\n",
       "      <td>1.000000</td>\n",
       "      <td>0.000000</td>\n",
       "      <td>0.000893</td>\n",
       "      <td>0.000000</td>\n",
       "      <td>0.009209</td>\n",
       "    </tr>\n",
       "  </tbody>\n",
       "</table>\n",
       "</div>"
      ],
      "text/plain": [
       "      Variable_Name Category  Count  Event  Non_Event  Event_Rate  \\\n",
       "11  EDUCATION_LEVEL        1    374     10        364    0.026738   \n",
       "12  EDUCATION_LEVEL        2  24777    402      24375    0.016225   \n",
       "13  EDUCATION_LEVEL        3   1410     33       1377    0.023404   \n",
       "14  EDUCATION_LEVEL        4   9864    171       9693    0.017336   \n",
       "15  EDUCATION_LEVEL        5     32      0         32    0.000000   \n",
       "\n",
       "    Non_Event_Rate  Event_Distribution  Non_Event_Distribution       WOE  \\\n",
       "11        0.973262            0.016234                0.010156  0.469032   \n",
       "12        0.983775            0.652597                0.680087 -0.041260   \n",
       "13        0.976596            0.053571                0.038420  0.332446   \n",
       "14        0.982664            0.277597                0.270444  0.026105   \n",
       "15        1.000000            0.000000                0.000893  0.000000   \n",
       "\n",
       "    Information_Value  \n",
       "11           0.009209  \n",
       "12           0.009209  \n",
       "13           0.009209  \n",
       "14           0.009209  \n",
       "15           0.009209  "
      ]
     },
     "execution_count": 67,
     "metadata": {},
     "output_type": "execute_result"
    }
   ],
   "source": [
    "woe_df[woe_df[\"Variable_Name\"] == 'EDUCATION_LEVEL']"
   ]
  },
  {
   "cell_type": "code",
   "execution_count": 68,
   "metadata": {},
   "outputs": [],
   "source": [
    "#We have to replace the cateogry with the corresponding WOE value in the original spark dataframe\n",
    "dict_woe = replaceCategoryToWOE('EDUCATION_LEVEL')\n",
    "df = df.withColumn('EDUCATION_LEVEL_WOE', getWoeValueOfaCatgory(dict_woe)(df.EDUCATION_LEVEL))"
   ]
  },
  {
   "cell_type": "code",
   "execution_count": 69,
   "metadata": {},
   "outputs": [
    {
     "name": "stdout",
     "output_type": "stream",
     "text": [
      "+---------------+------------------------+\n",
      "|EDUCATION_LEVEL|max(EDUCATION_LEVEL_WOE)|\n",
      "+---------------+------------------------+\n",
      "|              1|      0.4690320303091186|\n",
      "|              3|      0.3324458676896392|\n",
      "|              5|                     0.0|\n",
      "|              4|     0.02610510696186555|\n",
      "|              2|    -0.04126040229521308|\n",
      "+---------------+------------------------+\n",
      "\n"
     ]
    }
   ],
   "source": [
    "df.select('EDUCATION_LEVEL','EDUCATION_LEVEL_WOE').groupby('EDUCATION_LEVEL').agg(max('EDUCATION_LEVEL_WOE')).show()"
   ]
  },
  {
   "cell_type": "markdown",
   "metadata": {},
   "source": [
    "#### from above we can see that cateogorical variable is replacing with actual woe value correctly, now do similar for rest of the item"
   ]
  },
  {
   "cell_type": "code",
   "execution_count": 70,
   "metadata": {},
   "outputs": [],
   "source": [
    "\n",
    "dict_woe = replaceCategoryToWOE('CODE_GENDER_NUM')\n",
    "df = df.withColumn('CODE_GENDER_NUM_WOE', getWoeValueOfaCatgory(dict_woe)(df.CODE_GENDER_NUM))"
   ]
  },
  {
   "cell_type": "code",
   "execution_count": 71,
   "metadata": {},
   "outputs": [],
   "source": [
    "dict_woe = replaceCategoryToWOE('FLAG_OWN_REALTY_NUM')\n",
    "df = df.withColumn('FLAG_OWN_REALTY_NUM_WOE', getWoeValueOfaCatgory(dict_woe)(df.FLAG_OWN_REALTY_NUM))"
   ]
  },
  {
   "cell_type": "code",
   "execution_count": 72,
   "metadata": {},
   "outputs": [],
   "source": [
    "\n",
    "dict_woe = replaceCategoryToWOE('NAME_FAMILY_STATUS')\n",
    "df = df.withColumn('NAME_FAMILY_STATUS_WOE', getWoeValueOfaCatgory(dict_woe)(df.NAME_FAMILY_STATUS))"
   ]
  },
  {
   "cell_type": "code",
   "execution_count": 73,
   "metadata": {},
   "outputs": [],
   "source": [
    "dict_woe = replaceCategoryToWOE('NAME_HOUSING_TYPE')\n",
    "df = df.withColumn('NAME_HOUSING_TYPE_WOE', getWoeValueOfaCatgory(dict_woe)(df.NAME_HOUSING_TYPE))"
   ]
  },
  {
   "cell_type": "code",
   "execution_count": 74,
   "metadata": {},
   "outputs": [],
   "source": [
    "dict_woe = replaceCategoryToWOE('NAME_INCOME_TYPE')\n",
    "df = df.withColumn('NAME_INCOME_TYPE_WOE', getWoeValueOfaCatgory(dict_woe)(df.NAME_INCOME_TYPE))"
   ]
  },
  {
   "cell_type": "code",
   "execution_count": 75,
   "metadata": {},
   "outputs": [
    {
     "data": {
      "text/html": [
       "<div>\n",
       "<style scoped>\n",
       "    .dataframe tbody tr th:only-of-type {\n",
       "        vertical-align: middle;\n",
       "    }\n",
       "\n",
       "    .dataframe tbody tr th {\n",
       "        vertical-align: top;\n",
       "    }\n",
       "\n",
       "    .dataframe thead th {\n",
       "        text-align: right;\n",
       "    }\n",
       "</style>\n",
       "<table border=\"1\" class=\"dataframe\">\n",
       "  <thead>\n",
       "    <tr style=\"text-align: right;\">\n",
       "      <th></th>\n",
       "      <th>Variable_Name</th>\n",
       "      <th>Category</th>\n",
       "      <th>Count</th>\n",
       "      <th>Event</th>\n",
       "      <th>Non_Event</th>\n",
       "      <th>Event_Rate</th>\n",
       "      <th>Non_Event_Rate</th>\n",
       "      <th>Event_Distribution</th>\n",
       "      <th>Non_Event_Distribution</th>\n",
       "      <th>WOE</th>\n",
       "      <th>Information_Value</th>\n",
       "    </tr>\n",
       "  </thead>\n",
       "  <tbody>\n",
       "    <tr>\n",
       "      <th>34</th>\n",
       "      <td>OCCUPATION_TYPE</td>\n",
       "      <td>Accountants</td>\n",
       "      <td>1241</td>\n",
       "      <td>23</td>\n",
       "      <td>1218</td>\n",
       "      <td>0.018533</td>\n",
       "      <td>0.981467</td>\n",
       "      <td>0.037338</td>\n",
       "      <td>0.033983</td>\n",
       "      <td>0.094130</td>\n",
       "      <td>0.060582</td>\n",
       "    </tr>\n",
       "    <tr>\n",
       "      <th>35</th>\n",
       "      <td>OCCUPATION_TYPE</td>\n",
       "      <td>Cleaning staff</td>\n",
       "      <td>551</td>\n",
       "      <td>5</td>\n",
       "      <td>546</td>\n",
       "      <td>0.009074</td>\n",
       "      <td>0.990926</td>\n",
       "      <td>0.008117</td>\n",
       "      <td>0.015234</td>\n",
       "      <td>-0.629580</td>\n",
       "      <td>0.060582</td>\n",
       "    </tr>\n",
       "    <tr>\n",
       "      <th>36</th>\n",
       "      <td>OCCUPATION_TYPE</td>\n",
       "      <td>Cooking staff</td>\n",
       "      <td>655</td>\n",
       "      <td>9</td>\n",
       "      <td>646</td>\n",
       "      <td>0.013740</td>\n",
       "      <td>0.986260</td>\n",
       "      <td>0.014610</td>\n",
       "      <td>0.018024</td>\n",
       "      <td>-0.209974</td>\n",
       "      <td>0.060582</td>\n",
       "    </tr>\n",
       "    <tr>\n",
       "      <th>37</th>\n",
       "      <td>OCCUPATION_TYPE</td>\n",
       "      <td>Core staff</td>\n",
       "      <td>3591</td>\n",
       "      <td>74</td>\n",
       "      <td>3517</td>\n",
       "      <td>0.020607</td>\n",
       "      <td>0.979393</td>\n",
       "      <td>0.120130</td>\n",
       "      <td>0.098128</td>\n",
       "      <td>0.202302</td>\n",
       "      <td>0.060582</td>\n",
       "    </tr>\n",
       "    <tr>\n",
       "      <th>38</th>\n",
       "      <td>OCCUPATION_TYPE</td>\n",
       "      <td>Drivers</td>\n",
       "      <td>2138</td>\n",
       "      <td>49</td>\n",
       "      <td>2089</td>\n",
       "      <td>0.022919</td>\n",
       "      <td>0.977081</td>\n",
       "      <td>0.079545</td>\n",
       "      <td>0.058285</td>\n",
       "      <td>0.310980</td>\n",
       "      <td>0.060582</td>\n",
       "    </tr>\n",
       "    <tr>\n",
       "      <th>39</th>\n",
       "      <td>OCCUPATION_TYPE</td>\n",
       "      <td>HR staff</td>\n",
       "      <td>85</td>\n",
       "      <td>1</td>\n",
       "      <td>84</td>\n",
       "      <td>0.011765</td>\n",
       "      <td>0.988235</td>\n",
       "      <td>0.001623</td>\n",
       "      <td>0.002344</td>\n",
       "      <td>-0.367216</td>\n",
       "      <td>0.060582</td>\n",
       "    </tr>\n",
       "    <tr>\n",
       "      <th>40</th>\n",
       "      <td>OCCUPATION_TYPE</td>\n",
       "      <td>High skill tech staff</td>\n",
       "      <td>1383</td>\n",
       "      <td>30</td>\n",
       "      <td>1353</td>\n",
       "      <td>0.021692</td>\n",
       "      <td>0.978308</td>\n",
       "      <td>0.048701</td>\n",
       "      <td>0.037750</td>\n",
       "      <td>0.254719</td>\n",
       "      <td>0.060582</td>\n",
       "    </tr>\n",
       "    <tr>\n",
       "      <th>41</th>\n",
       "      <td>OCCUPATION_TYPE</td>\n",
       "      <td>IT staff</td>\n",
       "      <td>60</td>\n",
       "      <td>3</td>\n",
       "      <td>57</td>\n",
       "      <td>0.050000</td>\n",
       "      <td>0.950000</td>\n",
       "      <td>0.004870</td>\n",
       "      <td>0.001590</td>\n",
       "      <td>1.119162</td>\n",
       "      <td>0.060582</td>\n",
       "    </tr>\n",
       "    <tr>\n",
       "      <th>42</th>\n",
       "      <td>OCCUPATION_TYPE</td>\n",
       "      <td>Laborers</td>\n",
       "      <td>6211</td>\n",
       "      <td>99</td>\n",
       "      <td>6112</td>\n",
       "      <td>0.015939</td>\n",
       "      <td>0.984061</td>\n",
       "      <td>0.160714</td>\n",
       "      <td>0.170531</td>\n",
       "      <td>-0.059289</td>\n",
       "      <td>0.060582</td>\n",
       "    </tr>\n",
       "    <tr>\n",
       "      <th>43</th>\n",
       "      <td>OCCUPATION_TYPE</td>\n",
       "      <td>Low-skill Laborers</td>\n",
       "      <td>175</td>\n",
       "      <td>8</td>\n",
       "      <td>167</td>\n",
       "      <td>0.045714</td>\n",
       "      <td>0.954286</td>\n",
       "      <td>0.012987</td>\n",
       "      <td>0.004659</td>\n",
       "      <td>1.025049</td>\n",
       "      <td>0.060582</td>\n",
       "    </tr>\n",
       "    <tr>\n",
       "      <th>44</th>\n",
       "      <td>OCCUPATION_TYPE</td>\n",
       "      <td>Managers</td>\n",
       "      <td>3012</td>\n",
       "      <td>47</td>\n",
       "      <td>2965</td>\n",
       "      <td>0.015604</td>\n",
       "      <td>0.984396</td>\n",
       "      <td>0.076299</td>\n",
       "      <td>0.082726</td>\n",
       "      <td>-0.080884</td>\n",
       "      <td>0.060582</td>\n",
       "    </tr>\n",
       "    <tr>\n",
       "      <th>45</th>\n",
       "      <td>OCCUPATION_TYPE</td>\n",
       "      <td>Medicine staff</td>\n",
       "      <td>1207</td>\n",
       "      <td>10</td>\n",
       "      <td>1197</td>\n",
       "      <td>0.008285</td>\n",
       "      <td>0.991715</td>\n",
       "      <td>0.016234</td>\n",
       "      <td>0.033398</td>\n",
       "      <td>-0.721388</td>\n",
       "      <td>0.060582</td>\n",
       "    </tr>\n",
       "    <tr>\n",
       "      <th>46</th>\n",
       "      <td>OCCUPATION_TYPE</td>\n",
       "      <td>Missing</td>\n",
       "      <td>11323</td>\n",
       "      <td>194</td>\n",
       "      <td>11129</td>\n",
       "      <td>0.017133</td>\n",
       "      <td>0.982867</td>\n",
       "      <td>0.314935</td>\n",
       "      <td>0.310510</td>\n",
       "      <td>0.014149</td>\n",
       "      <td>0.060582</td>\n",
       "    </tr>\n",
       "    <tr>\n",
       "      <th>47</th>\n",
       "      <td>OCCUPATION_TYPE</td>\n",
       "      <td>Private service staff</td>\n",
       "      <td>344</td>\n",
       "      <td>2</td>\n",
       "      <td>342</td>\n",
       "      <td>0.005814</td>\n",
       "      <td>0.994186</td>\n",
       "      <td>0.003247</td>\n",
       "      <td>0.009542</td>\n",
       "      <td>-1.078063</td>\n",
       "      <td>0.060582</td>\n",
       "    </tr>\n",
       "    <tr>\n",
       "      <th>48</th>\n",
       "      <td>OCCUPATION_TYPE</td>\n",
       "      <td>Realty agents</td>\n",
       "      <td>79</td>\n",
       "      <td>0</td>\n",
       "      <td>79</td>\n",
       "      <td>0.000000</td>\n",
       "      <td>1.000000</td>\n",
       "      <td>0.000000</td>\n",
       "      <td>0.002204</td>\n",
       "      <td>0.000000</td>\n",
       "      <td>0.060582</td>\n",
       "    </tr>\n",
       "    <tr>\n",
       "      <th>49</th>\n",
       "      <td>OCCUPATION_TYPE</td>\n",
       "      <td>Sales staff</td>\n",
       "      <td>3485</td>\n",
       "      <td>45</td>\n",
       "      <td>3440</td>\n",
       "      <td>0.012912</td>\n",
       "      <td>0.987088</td>\n",
       "      <td>0.073052</td>\n",
       "      <td>0.095979</td>\n",
       "      <td>-0.272963</td>\n",
       "      <td>0.060582</td>\n",
       "    </tr>\n",
       "    <tr>\n",
       "      <th>50</th>\n",
       "      <td>OCCUPATION_TYPE</td>\n",
       "      <td>Secretaries</td>\n",
       "      <td>151</td>\n",
       "      <td>2</td>\n",
       "      <td>149</td>\n",
       "      <td>0.013245</td>\n",
       "      <td>0.986755</td>\n",
       "      <td>0.003247</td>\n",
       "      <td>0.004157</td>\n",
       "      <td>-0.247198</td>\n",
       "      <td>0.060582</td>\n",
       "    </tr>\n",
       "    <tr>\n",
       "      <th>51</th>\n",
       "      <td>OCCUPATION_TYPE</td>\n",
       "      <td>Security staff</td>\n",
       "      <td>592</td>\n",
       "      <td>13</td>\n",
       "      <td>579</td>\n",
       "      <td>0.021959</td>\n",
       "      <td>0.978041</td>\n",
       "      <td>0.021104</td>\n",
       "      <td>0.016155</td>\n",
       "      <td>0.267248</td>\n",
       "      <td>0.060582</td>\n",
       "    </tr>\n",
       "    <tr>\n",
       "      <th>52</th>\n",
       "      <td>OCCUPATION_TYPE</td>\n",
       "      <td>Waiters/barmen staff</td>\n",
       "      <td>174</td>\n",
       "      <td>2</td>\n",
       "      <td>172</td>\n",
       "      <td>0.011494</td>\n",
       "      <td>0.988506</td>\n",
       "      <td>0.003247</td>\n",
       "      <td>0.004799</td>\n",
       "      <td>-0.390746</td>\n",
       "      <td>0.060582</td>\n",
       "    </tr>\n",
       "  </tbody>\n",
       "</table>\n",
       "</div>"
      ],
      "text/plain": [
       "      Variable_Name               Category  Count  Event  Non_Event  \\\n",
       "34  OCCUPATION_TYPE            Accountants   1241     23       1218   \n",
       "35  OCCUPATION_TYPE         Cleaning staff    551      5        546   \n",
       "36  OCCUPATION_TYPE          Cooking staff    655      9        646   \n",
       "37  OCCUPATION_TYPE             Core staff   3591     74       3517   \n",
       "38  OCCUPATION_TYPE                Drivers   2138     49       2089   \n",
       "39  OCCUPATION_TYPE               HR staff     85      1         84   \n",
       "40  OCCUPATION_TYPE  High skill tech staff   1383     30       1353   \n",
       "41  OCCUPATION_TYPE               IT staff     60      3         57   \n",
       "42  OCCUPATION_TYPE               Laborers   6211     99       6112   \n",
       "43  OCCUPATION_TYPE     Low-skill Laborers    175      8        167   \n",
       "44  OCCUPATION_TYPE               Managers   3012     47       2965   \n",
       "45  OCCUPATION_TYPE         Medicine staff   1207     10       1197   \n",
       "46  OCCUPATION_TYPE                Missing  11323    194      11129   \n",
       "47  OCCUPATION_TYPE  Private service staff    344      2        342   \n",
       "48  OCCUPATION_TYPE          Realty agents     79      0         79   \n",
       "49  OCCUPATION_TYPE            Sales staff   3485     45       3440   \n",
       "50  OCCUPATION_TYPE            Secretaries    151      2        149   \n",
       "51  OCCUPATION_TYPE         Security staff    592     13        579   \n",
       "52  OCCUPATION_TYPE   Waiters/barmen staff    174      2        172   \n",
       "\n",
       "    Event_Rate  Non_Event_Rate  Event_Distribution  Non_Event_Distribution  \\\n",
       "34    0.018533        0.981467            0.037338                0.033983   \n",
       "35    0.009074        0.990926            0.008117                0.015234   \n",
       "36    0.013740        0.986260            0.014610                0.018024   \n",
       "37    0.020607        0.979393            0.120130                0.098128   \n",
       "38    0.022919        0.977081            0.079545                0.058285   \n",
       "39    0.011765        0.988235            0.001623                0.002344   \n",
       "40    0.021692        0.978308            0.048701                0.037750   \n",
       "41    0.050000        0.950000            0.004870                0.001590   \n",
       "42    0.015939        0.984061            0.160714                0.170531   \n",
       "43    0.045714        0.954286            0.012987                0.004659   \n",
       "44    0.015604        0.984396            0.076299                0.082726   \n",
       "45    0.008285        0.991715            0.016234                0.033398   \n",
       "46    0.017133        0.982867            0.314935                0.310510   \n",
       "47    0.005814        0.994186            0.003247                0.009542   \n",
       "48    0.000000        1.000000            0.000000                0.002204   \n",
       "49    0.012912        0.987088            0.073052                0.095979   \n",
       "50    0.013245        0.986755            0.003247                0.004157   \n",
       "51    0.021959        0.978041            0.021104                0.016155   \n",
       "52    0.011494        0.988506            0.003247                0.004799   \n",
       "\n",
       "         WOE  Information_Value  \n",
       "34  0.094130           0.060582  \n",
       "35 -0.629580           0.060582  \n",
       "36 -0.209974           0.060582  \n",
       "37  0.202302           0.060582  \n",
       "38  0.310980           0.060582  \n",
       "39 -0.367216           0.060582  \n",
       "40  0.254719           0.060582  \n",
       "41  1.119162           0.060582  \n",
       "42 -0.059289           0.060582  \n",
       "43  1.025049           0.060582  \n",
       "44 -0.080884           0.060582  \n",
       "45 -0.721388           0.060582  \n",
       "46  0.014149           0.060582  \n",
       "47 -1.078063           0.060582  \n",
       "48  0.000000           0.060582  \n",
       "49 -0.272963           0.060582  \n",
       "50 -0.247198           0.060582  \n",
       "51  0.267248           0.060582  \n",
       "52 -0.390746           0.060582  "
      ]
     },
     "execution_count": 75,
     "metadata": {},
     "output_type": "execute_result"
    }
   ],
   "source": [
    "woe_df[woe_df[\"Variable_Name\"] == 'OCCUPATION_TYPE']"
   ]
  },
  {
   "cell_type": "code",
   "execution_count": null,
   "metadata": {},
   "outputs": [],
   "source": []
  },
  {
   "cell_type": "code",
   "execution_count": 76,
   "metadata": {},
   "outputs": [],
   "source": [
    "dict_woe = replaceCategoryToWOE('OCCUPATION_TYPE')"
   ]
  },
  {
   "cell_type": "code",
   "execution_count": 77,
   "metadata": {},
   "outputs": [
    {
     "data": {
      "text/plain": [
       "{'Accountants': 0.09412957261112086,\n",
       " 'Cleaning staff': -0.6295802583589911,\n",
       " 'Cooking staff': -0.20997412149456882,\n",
       " 'Core staff': 0.202302265682001,\n",
       " 'Drivers': 0.3109803415058745,\n",
       " 'HR staff': -0.36721599389149984,\n",
       " 'High skill tech staff': 0.2547185584431811,\n",
       " 'IT staff': 1.119161825785373,\n",
       " 'Laborers': -0.059288675759952725,\n",
       " 'Low-skill Laborers': 1.0250485342148945,\n",
       " 'Managers': -0.08088390476995357,\n",
       " 'Medicine staff': -0.721387807612114,\n",
       " 'Missing': 0.014149371041716879,\n",
       " 'Private service staff': -1.078062751550846,\n",
       " 'Realty agents': 0.0,\n",
       " 'Sales staff': -0.27296345564531077,\n",
       " 'Secretaries': -0.24719832043369996,\n",
       " 'Security staff': 0.2672476848403552,\n",
       " 'Waiters/barmen staff': -0.390746491301694}"
      ]
     },
     "execution_count": 77,
     "metadata": {},
     "output_type": "execute_result"
    }
   ],
   "source": [
    "dict_woe"
   ]
  },
  {
   "cell_type": "code",
   "execution_count": 78,
   "metadata": {},
   "outputs": [],
   "source": [
    "df = df.withColumn('OCCUPATION_TYPE_WOE', getWoeValueOfaCatgory(dict_woe)(df.OCCUPATION_TYPE))"
   ]
  },
  {
   "cell_type": "code",
   "execution_count": 79,
   "metadata": {},
   "outputs": [
    {
     "data": {
      "text/plain": [
       "DataFrame[ID: int, AMT_INCOME_TOTAL: double, NAME_INCOME_TYPE: string, NAME_FAMILY_STATUS: string, NAME_HOUSING_TYPE: string, OCCUPATION_TYPE: string, EDUCATION_LEVEL: int, DELENQUENT: int, CODE_GENDER_NUM: int, FLAG_OWN_REALTY_NUM: int, AGE_EMPLOYED: double, AGE: double, AGE_WOE: double, AGE_EMPLOYED_WOE: double, AMT_INCOME_TOTAL_WOE: double, EDUCATION_LEVEL_WOE: string, CODE_GENDER_NUM_WOE: string, FLAG_OWN_REALTY_NUM_WOE: string, NAME_FAMILY_STATUS_WOE: string, NAME_HOUSING_TYPE_WOE: string, NAME_INCOME_TYPE_WOE: string, OCCUPATION_TYPE_WOE: string]"
      ]
     },
     "execution_count": 79,
     "metadata": {},
     "output_type": "execute_result"
    }
   ],
   "source": [
    "df"
   ]
  },
  {
   "cell_type": "code",
   "execution_count": 80,
   "metadata": {},
   "outputs": [],
   "source": [
    "#now drop the corlumn without woe\n",
    "df = df.drop('AMT_INCOME_TOTAL','NAME_INCOME_TYPE','NAME_FAMILY_STATUS','NAME_HOUSING_TYPE','OCCUPATION_TYPE',\n",
    "'EDUCATION_LEVEL','CODE_GENDER_NUM', 'FLAG_OWN_REALTY_NUM','AGE_EMPLOYED','AGE')"
   ]
  },
  {
   "cell_type": "code",
   "execution_count": 81,
   "metadata": {},
   "outputs": [
    {
     "data": {
      "text/plain": [
       "DataFrame[ID: int, DELENQUENT: int, AGE_WOE: double, AGE_EMPLOYED_WOE: double, AMT_INCOME_TOTAL_WOE: double, EDUCATION_LEVEL_WOE: string, CODE_GENDER_NUM_WOE: string, FLAG_OWN_REALTY_NUM_WOE: string, NAME_FAMILY_STATUS_WOE: string, NAME_HOUSING_TYPE_WOE: string, NAME_INCOME_TYPE_WOE: string, OCCUPATION_TYPE_WOE: string]"
      ]
     },
     "execution_count": 81,
     "metadata": {},
     "output_type": "execute_result"
    }
   ],
   "source": [
    "df"
   ]
  },
  {
   "cell_type": "code",
   "execution_count": 82,
   "metadata": {},
   "outputs": [
    {
     "name": "stdout",
     "output_type": "stream",
     "text": [
      "+-------+----------+---------+----------------+--------------------+--------------------+--------------------+-----------------------+----------------------+---------------------+--------------------+--------------------+\n",
      "|     ID|DELENQUENT|  AGE_WOE|AGE_EMPLOYED_WOE|AMT_INCOME_TOTAL_WOE| EDUCATION_LEVEL_WOE| CODE_GENDER_NUM_WOE|FLAG_OWN_REALTY_NUM_WOE|NAME_FAMILY_STATUS_WOE|NAME_HOUSING_TYPE_WOE|NAME_INCOME_TYPE_WOE| OCCUPATION_TYPE_WOE|\n",
      "+-------+----------+---------+----------------+--------------------+--------------------+--------------------+-----------------------+----------------------+---------------------+--------------------+--------------------+\n",
      "|5008804|         0|  0.05123|       -0.213902|             0.01784| 0.02610510696186555| 0.15665395255552828|   -0.12816876027993723|  -0.07987892748074678| -0.19731695709610228| -0.0390425600849821|0.014149371041716879|\n",
      "|5008805|         0|  0.05123|       -0.213902|             0.01784| 0.02610510696186555| 0.15665395255552828|   -0.12816876027993723|  -0.07987892748074678| -0.19731695709610228| -0.0390425600849821|0.014149371041716879|\n",
      "|5008806|         0| 0.042095|       -0.011847|            0.050554|-0.04126040229521308| 0.15665395255552828|   -0.12816876027993723|  -0.07532458183715157| -0.01857120602693...| -0.0390425600849821|  0.2672476848403552|\n",
      "|5008808|         0| 0.042095|       -0.213902|             0.01784|-0.04126040229521308|-0.08679484467682119|   -0.12816876027993723|    0.2174637627071392| -0.01857120602693...|-0.00321203663901...|-0.27296345564531077|\n",
      "|5008809|         0| 0.042095|       -0.213902|             0.01784|-0.04126040229521308|-0.08679484467682119|   -0.12816876027993723|    0.2174637627071392| -0.01857120602693...|-0.00321203663901...|-0.27296345564531077|\n",
      "|5008810|         0| 0.042095|       -0.213902|             0.01784|-0.04126040229521308|-0.08679484467682119|   -0.12816876027993723|    0.2174637627071392| -0.01857120602693...|-0.00321203663901...|-0.27296345564531077|\n",
      "|5008811|         0| 0.042095|       -0.213902|             0.01784|-0.04126040229521308|-0.08679484467682119|   -0.12816876027993723|    0.2174637627071392| -0.01857120602693...|-0.00321203663901...|-0.27296345564531077|\n",
      "|5008812|         0| 0.042095|        0.186429|             0.01784| 0.02610510696186555|-0.08679484467682119|   -0.12816876027993723|   -0.1386815939424137| -0.01857120602693...| 0.22796054636571686|0.014149371041716879|\n",
      "|5008813|         0| 0.042095|        0.186429|             0.01784| 0.02610510696186555|-0.08679484467682119|   -0.12816876027993723|   -0.1386815939424137| -0.01857120602693...| 0.22796054636571686|0.014149371041716879|\n",
      "|5008814|         0| 0.042095|        0.186429|             0.01784| 0.02610510696186555|-0.08679484467682119|   -0.12816876027993723|   -0.1386815939424137| -0.01857120602693...| 0.22796054636571686|0.014149371041716879|\n",
      "|5008815|         0|-0.100226|       -0.011847|             0.01784| 0.02610510696186555| 0.15665395255552828|   -0.12816876027993723|  -0.07532458183715157| -0.01857120602693...| -0.0390425600849821| 0.09412957261112086|\n",
      "|5112956|         0|-0.100226|       -0.011847|             0.01784| 0.02610510696186555| 0.15665395255552828|   -0.12816876027993723|  -0.07532458183715157| -0.01857120602693...| -0.0390425600849821| 0.09412957261112086|\n",
      "|5008819|         0|-0.100226|       -0.011847|            0.050554|-0.04126040229521308| 0.15665395255552828|   -0.12816876027993723|  -0.07532458183715157| -0.01857120602693...|-0.00321203663901...|-0.05928867575995...|\n",
      "|5008820|         0|-0.100226|       -0.011847|            0.050554|-0.04126040229521308| 0.15665395255552828|   -0.12816876027993723|  -0.07532458183715157| -0.01857120602693...|-0.00321203663901...|-0.05928867575995...|\n",
      "|5008821|         0|-0.100226|       -0.011847|            0.050554|-0.04126040229521308| 0.15665395255552828|   -0.12816876027993723|  -0.07532458183715157| -0.01857120602693...|-0.00321203663901...|-0.05928867575995...|\n",
      "|5008822|         0|-0.100226|       -0.011847|            0.050554|-0.04126040229521308| 0.15665395255552828|   -0.12816876027993723|  -0.07532458183715157| -0.01857120602693...|-0.00321203663901...|-0.05928867575995...|\n",
      "|5008823|         0|-0.100226|       -0.011847|            0.050554|-0.04126040229521308| 0.15665395255552828|   -0.12816876027993723|  -0.07532458183715157| -0.01857120602693...|-0.00321203663901...|-0.05928867575995...|\n",
      "|5008824|         0|-0.100226|       -0.011847|            0.050554|-0.04126040229521308| 0.15665395255552828|   -0.12816876027993723|  -0.07532458183715157| -0.01857120602693...|-0.00321203663901...|-0.05928867575995...|\n",
      "|5008825|         0|  0.05123|       -0.011847|            0.050554|  0.3324458676896392|-0.08679484467682119|    0.22170962329775007|  -0.07532458183715157| -0.01857120602693...| -0.0390425600849821| 0.09412957261112086|\n",
      "|5008826|         0|  0.05123|       -0.011847|            0.050554|  0.3324458676896392|-0.08679484467682119|    0.22170962329775007|  -0.07532458183715157| -0.01857120602693...| -0.0390425600849821| 0.09412957261112086|\n",
      "+-------+----------+---------+----------------+--------------------+--------------------+--------------------+-----------------------+----------------------+---------------------+--------------------+--------------------+\n",
      "only showing top 20 rows\n",
      "\n"
     ]
    }
   ],
   "source": [
    "df.show()"
   ]
  },
  {
   "cell_type": "code",
   "execution_count": 83,
   "metadata": {},
   "outputs": [
    {
     "name": "stdout",
     "output_type": "stream",
     "text": [
      "root\n",
      " |-- ID: integer (nullable = true)\n",
      " |-- DELENQUENT: integer (nullable = true)\n",
      " |-- AGE_WOE: double (nullable = true)\n",
      " |-- AGE_EMPLOYED_WOE: double (nullable = true)\n",
      " |-- AMT_INCOME_TOTAL_WOE: double (nullable = true)\n",
      " |-- EDUCATION_LEVEL_WOE: string (nullable = true)\n",
      " |-- CODE_GENDER_NUM_WOE: string (nullable = true)\n",
      " |-- FLAG_OWN_REALTY_NUM_WOE: string (nullable = true)\n",
      " |-- NAME_FAMILY_STATUS_WOE: string (nullable = true)\n",
      " |-- NAME_HOUSING_TYPE_WOE: string (nullable = true)\n",
      " |-- NAME_INCOME_TYPE_WOE: string (nullable = true)\n",
      " |-- OCCUPATION_TYPE_WOE: string (nullable = true)\n",
      "\n"
     ]
    }
   ],
   "source": [
    "df.printSchema()"
   ]
  },
  {
   "cell_type": "code",
   "execution_count": 84,
   "metadata": {},
   "outputs": [],
   "source": [
    "#Correct all the string type to double"
   ]
  },
  {
   "cell_type": "code",
   "execution_count": 85,
   "metadata": {},
   "outputs": [],
   "source": [
    "df = df.withColumn(\"CODE_GENDER_NUM_WOE\", df['CODE_GENDER_NUM_WOE'].cast(DoubleType()))\n",
    "df = df.withColumn(\"EDUCATION_LEVEL_WOE\", df['EDUCATION_LEVEL_WOE'].cast(DoubleType()))\n",
    "df = df.withColumn(\"FLAG_OWN_REALTY_NUM_WOE\", df['FLAG_OWN_REALTY_NUM_WOE'].cast(DoubleType()))\n",
    "df = df.withColumn(\"NAME_FAMILY_STATUS_WOE\", df['NAME_FAMILY_STATUS_WOE'].cast(DoubleType()))\n",
    "df = df.withColumn(\"NAME_HOUSING_TYPE_WOE\", df['NAME_HOUSING_TYPE_WOE'].cast(DoubleType()))\n",
    "df = df.withColumn(\"NAME_INCOME_TYPE_WOE\", df['NAME_INCOME_TYPE_WOE'].cast(DoubleType()))\n",
    "df = df.withColumn(\"OCCUPATION_TYPE_WOE\", df['OCCUPATION_TYPE_WOE'].cast(DoubleType()))\n"
   ]
  },
  {
   "cell_type": "code",
   "execution_count": 86,
   "metadata": {},
   "outputs": [
    {
     "name": "stdout",
     "output_type": "stream",
     "text": [
      "root\n",
      " |-- ID: integer (nullable = true)\n",
      " |-- DELENQUENT: integer (nullable = true)\n",
      " |-- AGE_WOE: double (nullable = true)\n",
      " |-- AGE_EMPLOYED_WOE: double (nullable = true)\n",
      " |-- AMT_INCOME_TOTAL_WOE: double (nullable = true)\n",
      " |-- EDUCATION_LEVEL_WOE: double (nullable = true)\n",
      " |-- CODE_GENDER_NUM_WOE: double (nullable = true)\n",
      " |-- FLAG_OWN_REALTY_NUM_WOE: double (nullable = true)\n",
      " |-- NAME_FAMILY_STATUS_WOE: double (nullable = true)\n",
      " |-- NAME_HOUSING_TYPE_WOE: double (nullable = true)\n",
      " |-- NAME_INCOME_TYPE_WOE: double (nullable = true)\n",
      " |-- OCCUPATION_TYPE_WOE: double (nullable = true)\n",
      "\n"
     ]
    }
   ],
   "source": [
    "#Now again check for the schema\n",
    "df.printSchema()"
   ]
  },
  {
   "cell_type": "code",
   "execution_count": 87,
   "metadata": {},
   "outputs": [],
   "source": [
    "df = df.dropna()"
   ]
  },
  {
   "cell_type": "code",
   "execution_count": null,
   "metadata": {},
   "outputs": [],
   "source": []
  },
  {
   "cell_type": "markdown",
   "metadata": {},
   "source": [
    "### Now above data is fit for logistics regression model building"
   ]
  },
  {
   "cell_type": "code",
   "execution_count": 88,
   "metadata": {},
   "outputs": [],
   "source": [
    "df_pd = df.toPandas()"
   ]
  },
  {
   "cell_type": "code",
   "execution_count": 89,
   "metadata": {},
   "outputs": [
    {
     "data": {
      "text/html": [
       "<div>\n",
       "<style scoped>\n",
       "    .dataframe tbody tr th:only-of-type {\n",
       "        vertical-align: middle;\n",
       "    }\n",
       "\n",
       "    .dataframe tbody tr th {\n",
       "        vertical-align: top;\n",
       "    }\n",
       "\n",
       "    .dataframe thead th {\n",
       "        text-align: right;\n",
       "    }\n",
       "</style>\n",
       "<table border=\"1\" class=\"dataframe\">\n",
       "  <thead>\n",
       "    <tr style=\"text-align: right;\">\n",
       "      <th></th>\n",
       "      <th>ID</th>\n",
       "      <th>DELENQUENT</th>\n",
       "      <th>AGE_WOE</th>\n",
       "      <th>AGE_EMPLOYED_WOE</th>\n",
       "      <th>AMT_INCOME_TOTAL_WOE</th>\n",
       "      <th>EDUCATION_LEVEL_WOE</th>\n",
       "      <th>CODE_GENDER_NUM_WOE</th>\n",
       "      <th>FLAG_OWN_REALTY_NUM_WOE</th>\n",
       "      <th>NAME_FAMILY_STATUS_WOE</th>\n",
       "      <th>NAME_HOUSING_TYPE_WOE</th>\n",
       "      <th>NAME_INCOME_TYPE_WOE</th>\n",
       "      <th>OCCUPATION_TYPE_WOE</th>\n",
       "    </tr>\n",
       "  </thead>\n",
       "  <tbody>\n",
       "    <tr>\n",
       "      <th>0</th>\n",
       "      <td>5008804</td>\n",
       "      <td>0</td>\n",
       "      <td>0.051230</td>\n",
       "      <td>-0.213902</td>\n",
       "      <td>0.017840</td>\n",
       "      <td>0.026105</td>\n",
       "      <td>0.156654</td>\n",
       "      <td>-0.128169</td>\n",
       "      <td>-0.079879</td>\n",
       "      <td>-0.197317</td>\n",
       "      <td>-0.039043</td>\n",
       "      <td>0.014149</td>\n",
       "    </tr>\n",
       "    <tr>\n",
       "      <th>1</th>\n",
       "      <td>5008805</td>\n",
       "      <td>0</td>\n",
       "      <td>0.051230</td>\n",
       "      <td>-0.213902</td>\n",
       "      <td>0.017840</td>\n",
       "      <td>0.026105</td>\n",
       "      <td>0.156654</td>\n",
       "      <td>-0.128169</td>\n",
       "      <td>-0.079879</td>\n",
       "      <td>-0.197317</td>\n",
       "      <td>-0.039043</td>\n",
       "      <td>0.014149</td>\n",
       "    </tr>\n",
       "    <tr>\n",
       "      <th>2</th>\n",
       "      <td>5008806</td>\n",
       "      <td>0</td>\n",
       "      <td>0.042095</td>\n",
       "      <td>-0.011847</td>\n",
       "      <td>0.050554</td>\n",
       "      <td>-0.041260</td>\n",
       "      <td>0.156654</td>\n",
       "      <td>-0.128169</td>\n",
       "      <td>-0.075325</td>\n",
       "      <td>-0.018571</td>\n",
       "      <td>-0.039043</td>\n",
       "      <td>0.267248</td>\n",
       "    </tr>\n",
       "    <tr>\n",
       "      <th>3</th>\n",
       "      <td>5008808</td>\n",
       "      <td>0</td>\n",
       "      <td>0.042095</td>\n",
       "      <td>-0.213902</td>\n",
       "      <td>0.017840</td>\n",
       "      <td>-0.041260</td>\n",
       "      <td>-0.086795</td>\n",
       "      <td>-0.128169</td>\n",
       "      <td>0.217464</td>\n",
       "      <td>-0.018571</td>\n",
       "      <td>-0.003212</td>\n",
       "      <td>-0.272963</td>\n",
       "    </tr>\n",
       "    <tr>\n",
       "      <th>4</th>\n",
       "      <td>5008809</td>\n",
       "      <td>0</td>\n",
       "      <td>0.042095</td>\n",
       "      <td>-0.213902</td>\n",
       "      <td>0.017840</td>\n",
       "      <td>-0.041260</td>\n",
       "      <td>-0.086795</td>\n",
       "      <td>-0.128169</td>\n",
       "      <td>0.217464</td>\n",
       "      <td>-0.018571</td>\n",
       "      <td>-0.003212</td>\n",
       "      <td>-0.272963</td>\n",
       "    </tr>\n",
       "    <tr>\n",
       "      <th>...</th>\n",
       "      <td>...</td>\n",
       "      <td>...</td>\n",
       "      <td>...</td>\n",
       "      <td>...</td>\n",
       "      <td>...</td>\n",
       "      <td>...</td>\n",
       "      <td>...</td>\n",
       "      <td>...</td>\n",
       "      <td>...</td>\n",
       "      <td>...</td>\n",
       "      <td>...</td>\n",
       "      <td>...</td>\n",
       "    </tr>\n",
       "    <tr>\n",
       "      <th>36451</th>\n",
       "      <td>5149828</td>\n",
       "      <td>1</td>\n",
       "      <td>-0.100226</td>\n",
       "      <td>-0.011847</td>\n",
       "      <td>0.017840</td>\n",
       "      <td>-0.041260</td>\n",
       "      <td>0.156654</td>\n",
       "      <td>-0.128169</td>\n",
       "      <td>-0.075325</td>\n",
       "      <td>-0.018571</td>\n",
       "      <td>-0.039043</td>\n",
       "      <td>-0.080884</td>\n",
       "    </tr>\n",
       "    <tr>\n",
       "      <th>36452</th>\n",
       "      <td>5149834</td>\n",
       "      <td>1</td>\n",
       "      <td>0.051230</td>\n",
       "      <td>-0.011847</td>\n",
       "      <td>-0.093102</td>\n",
       "      <td>0.026105</td>\n",
       "      <td>-0.086795</td>\n",
       "      <td>-0.128169</td>\n",
       "      <td>-0.075325</td>\n",
       "      <td>-0.018571</td>\n",
       "      <td>-0.003212</td>\n",
       "      <td>-0.721388</td>\n",
       "    </tr>\n",
       "    <tr>\n",
       "      <th>36453</th>\n",
       "      <td>5149838</td>\n",
       "      <td>1</td>\n",
       "      <td>0.051230</td>\n",
       "      <td>-0.011847</td>\n",
       "      <td>-0.093102</td>\n",
       "      <td>0.026105</td>\n",
       "      <td>-0.086795</td>\n",
       "      <td>-0.128169</td>\n",
       "      <td>-0.075325</td>\n",
       "      <td>-0.018571</td>\n",
       "      <td>0.227961</td>\n",
       "      <td>-0.721388</td>\n",
       "    </tr>\n",
       "    <tr>\n",
       "      <th>36454</th>\n",
       "      <td>5150049</td>\n",
       "      <td>1</td>\n",
       "      <td>-0.100226</td>\n",
       "      <td>0.186429</td>\n",
       "      <td>0.017840</td>\n",
       "      <td>-0.041260</td>\n",
       "      <td>-0.086795</td>\n",
       "      <td>-0.128169</td>\n",
       "      <td>-0.075325</td>\n",
       "      <td>-0.018571</td>\n",
       "      <td>-0.039043</td>\n",
       "      <td>-0.272963</td>\n",
       "    </tr>\n",
       "    <tr>\n",
       "      <th>36455</th>\n",
       "      <td>5150337</td>\n",
       "      <td>1</td>\n",
       "      <td>0.051230</td>\n",
       "      <td>-0.011847</td>\n",
       "      <td>0.050554</td>\n",
       "      <td>-0.041260</td>\n",
       "      <td>0.156654</td>\n",
       "      <td>-0.128169</td>\n",
       "      <td>0.217464</td>\n",
       "      <td>-0.197317</td>\n",
       "      <td>-0.039043</td>\n",
       "      <td>-0.059289</td>\n",
       "    </tr>\n",
       "  </tbody>\n",
       "</table>\n",
       "<p>36456 rows × 12 columns</p>\n",
       "</div>"
      ],
      "text/plain": [
       "            ID  DELENQUENT   AGE_WOE  AGE_EMPLOYED_WOE  AMT_INCOME_TOTAL_WOE  \\\n",
       "0      5008804           0  0.051230         -0.213902              0.017840   \n",
       "1      5008805           0  0.051230         -0.213902              0.017840   \n",
       "2      5008806           0  0.042095         -0.011847              0.050554   \n",
       "3      5008808           0  0.042095         -0.213902              0.017840   \n",
       "4      5008809           0  0.042095         -0.213902              0.017840   \n",
       "...        ...         ...       ...               ...                   ...   \n",
       "36451  5149828           1 -0.100226         -0.011847              0.017840   \n",
       "36452  5149834           1  0.051230         -0.011847             -0.093102   \n",
       "36453  5149838           1  0.051230         -0.011847             -0.093102   \n",
       "36454  5150049           1 -0.100226          0.186429              0.017840   \n",
       "36455  5150337           1  0.051230         -0.011847              0.050554   \n",
       "\n",
       "       EDUCATION_LEVEL_WOE  CODE_GENDER_NUM_WOE  FLAG_OWN_REALTY_NUM_WOE  \\\n",
       "0                 0.026105             0.156654                -0.128169   \n",
       "1                 0.026105             0.156654                -0.128169   \n",
       "2                -0.041260             0.156654                -0.128169   \n",
       "3                -0.041260            -0.086795                -0.128169   \n",
       "4                -0.041260            -0.086795                -0.128169   \n",
       "...                    ...                  ...                      ...   \n",
       "36451            -0.041260             0.156654                -0.128169   \n",
       "36452             0.026105            -0.086795                -0.128169   \n",
       "36453             0.026105            -0.086795                -0.128169   \n",
       "36454            -0.041260            -0.086795                -0.128169   \n",
       "36455            -0.041260             0.156654                -0.128169   \n",
       "\n",
       "       NAME_FAMILY_STATUS_WOE  NAME_HOUSING_TYPE_WOE  NAME_INCOME_TYPE_WOE  \\\n",
       "0                   -0.079879              -0.197317             -0.039043   \n",
       "1                   -0.079879              -0.197317             -0.039043   \n",
       "2                   -0.075325              -0.018571             -0.039043   \n",
       "3                    0.217464              -0.018571             -0.003212   \n",
       "4                    0.217464              -0.018571             -0.003212   \n",
       "...                       ...                    ...                   ...   \n",
       "36451               -0.075325              -0.018571             -0.039043   \n",
       "36452               -0.075325              -0.018571             -0.003212   \n",
       "36453               -0.075325              -0.018571              0.227961   \n",
       "36454               -0.075325              -0.018571             -0.039043   \n",
       "36455                0.217464              -0.197317             -0.039043   \n",
       "\n",
       "       OCCUPATION_TYPE_WOE  \n",
       "0                 0.014149  \n",
       "1                 0.014149  \n",
       "2                 0.267248  \n",
       "3                -0.272963  \n",
       "4                -0.272963  \n",
       "...                    ...  \n",
       "36451            -0.080884  \n",
       "36452            -0.721388  \n",
       "36453            -0.721388  \n",
       "36454            -0.272963  \n",
       "36455            -0.059289  \n",
       "\n",
       "[36456 rows x 12 columns]"
      ]
     },
     "execution_count": 89,
     "metadata": {},
     "output_type": "execute_result"
    }
   ],
   "source": [
    "df_pd"
   ]
  },
  {
   "cell_type": "code",
   "execution_count": 89,
   "metadata": {},
   "outputs": [
    {
     "name": "stdout",
     "output_type": "stream",
     "text": [
      "Requirement already satisfied: seaborn in /usr/local/lib/python3.7/site-packages\n",
      "Requirement already satisfied: pandas>=0.23 in ./.local/lib/python3.7/site-packages (from seaborn)\n",
      "Requirement already satisfied: numpy>=1.15 in ./.local/lib/python3.7/site-packages (from seaborn)\n",
      "Requirement already satisfied: scipy>=1.0 in ./.local/lib/python3.7/site-packages (from seaborn)\n",
      "Requirement already satisfied: matplotlib>=2.2 in ./.local/lib/python3.7/site-packages (from seaborn)\n",
      "Requirement already satisfied: python-dateutil>=2.7.3 in /usr/local/lib/python3.7/site-packages (from pandas>=0.23->seaborn)\n",
      "Requirement already satisfied: pytz>=2017.2 in ./.local/lib/python3.7/site-packages (from pandas>=0.23->seaborn)\n",
      "Requirement already satisfied: kiwisolver>=1.0.1 in ./.local/lib/python3.7/site-packages (from matplotlib>=2.2->seaborn)\n",
      "Requirement already satisfied: pyparsing!=2.0.4,!=2.1.2,!=2.1.6,>=2.0.3 in /usr/local/lib/python3.7/site-packages (from matplotlib>=2.2->seaborn)\n",
      "Requirement already satisfied: pillow>=6.2.0 in ./.local/lib/python3.7/site-packages (from matplotlib>=2.2->seaborn)\n",
      "Requirement already satisfied: cycler>=0.10 in ./.local/lib/python3.7/site-packages (from matplotlib>=2.2->seaborn)\n",
      "Requirement already satisfied: certifi>=2020.06.20 in ./.local/lib/python3.7/site-packages (from matplotlib>=2.2->seaborn)\n",
      "Requirement already satisfied: six>=1.5 in /usr/local/lib/python3.7/site-packages (from python-dateutil>=2.7.3->pandas>=0.23->seaborn)\n"
     ]
    }
   ],
   "source": [
    "!pip3 install seaborn"
   ]
  },
  {
   "cell_type": "code",
   "execution_count": 90,
   "metadata": {},
   "outputs": [
    {
     "data": {
      "image/png": "[encoded data removed]",
      "text/plain": [
       "<Figure size 432x288 with 2 Axes>"
      ]
     },
     "metadata": {
      "needs_background": "light"
     },
     "output_type": "display_data"
    }
   ],
   "source": [
    "#check the correlation\n",
    "%matplotlib inline\n",
    "import seaborn as sns\n",
    "import matplotlib.pyplot as plt\n",
    "sns.heatmap(df_pd.corr())\n",
    "plt.show()"
   ]
  },
  {
   "cell_type": "markdown",
   "metadata": {},
   "source": [
    "### Above we can see every feature is not controlled just AGE_EMPLOYED_WOE is correlated with NAME_INCOME_TYPE_WOE"
   ]
  },
  {
   "cell_type": "code",
   "execution_count": 91,
   "metadata": {},
   "outputs": [],
   "source": [
    "df_copy = df"
   ]
  },
  {
   "cell_type": "code",
   "execution_count": 92,
   "metadata": {},
   "outputs": [],
   "source": [
    "from pyspark.ml.feature import StringIndexer, OneHotEncoderEstimator, VectorAssembler"
   ]
  },
  {
   "cell_type": "code",
   "execution_count": 94,
   "metadata": {},
   "outputs": [],
   "source": [
    "df = df_copy\n",
    "trainCols = df.drop('ID','DELENQUENT').columns"
   ]
  },
  {
   "cell_type": "code",
   "execution_count": 95,
   "metadata": {},
   "outputs": [
    {
     "data": {
      "text/plain": [
       "['AGE_WOE',\n",
       " 'AGE_EMPLOYED_WOE',\n",
       " 'AMT_INCOME_TOTAL_WOE',\n",
       " 'EDUCATION_LEVEL_WOE',\n",
       " 'CODE_GENDER_NUM_WOE',\n",
       " 'FLAG_OWN_REALTY_NUM_WOE',\n",
       " 'NAME_FAMILY_STATUS_WOE',\n",
       " 'NAME_HOUSING_TYPE_WOE',\n",
       " 'NAME_INCOME_TYPE_WOE',\n",
       " 'OCCUPATION_TYPE_WOE']"
      ]
     },
     "execution_count": 95,
     "metadata": {},
     "output_type": "execute_result"
    }
   ],
   "source": [
    "trainCols"
   ]
  },
  {
   "cell_type": "code",
   "execution_count": 96,
   "metadata": {},
   "outputs": [],
   "source": [
    "\n",
    "assembler = VectorAssembler(inputCols=trainCols, outputCol='features')\n",
    "df = assembler.transform(df)"
   ]
  },
  {
   "cell_type": "code",
   "execution_count": null,
   "metadata": {},
   "outputs": [],
   "source": []
  },
  {
   "cell_type": "code",
   "execution_count": 97,
   "metadata": {},
   "outputs": [
    {
     "data": {
      "text/plain": [
       "Row(features=DenseVector([0.0512, -0.2139, 0.0178, 0.0261, 0.1567, -0.1282, -0.0799, -0.1973, -0.039, 0.0141]))"
      ]
     },
     "execution_count": 97,
     "metadata": {},
     "output_type": "execute_result"
    }
   ],
   "source": [
    "df.select('features').head()"
   ]
  },
  {
   "cell_type": "code",
   "execution_count": 98,
   "metadata": {},
   "outputs": [],
   "source": [
    "df_train, df_test = df.randomSplit([0.7,0.3])"
   ]
  },
  {
   "cell_type": "markdown",
   "metadata": {},
   "source": [
    "### Check the propotion of delenquent in both test and train"
   ]
  },
  {
   "cell_type": "code",
   "execution_count": 101,
   "metadata": {},
   "outputs": [
    {
     "name": "stdout",
     "output_type": "stream",
     "text": [
      "+----------+---------------+\n",
      "|DELENQUENT|sum(DELENQUENT)|\n",
      "+----------+---------------+\n",
      "|         1|            445|\n",
      "|         0|              0|\n",
      "+----------+---------------+\n",
      "\n"
     ]
    }
   ],
   "source": [
    "df_train.select('DELENQUENT').groupby('DELENQUENT').sum().show()"
   ]
  },
  {
   "cell_type": "code",
   "execution_count": 102,
   "metadata": {},
   "outputs": [
    {
     "name": "stdout",
     "output_type": "stream",
     "text": [
      "+----------+---------------+\n",
      "|DELENQUENT|sum(DELENQUENT)|\n",
      "+----------+---------------+\n",
      "|         1|            171|\n",
      "|         0|              0|\n",
      "+----------+---------------+\n",
      "\n"
     ]
    }
   ],
   "source": [
    "df_test.select('DELENQUENT').groupby('DELENQUENT').sum().show()"
   ]
  },
  {
   "cell_type": "markdown",
   "metadata": {},
   "source": [
    "### Proportion seems ok, Otherwise we need to do the custom sampling as data is highly imbalanced"
   ]
  },
  {
   "cell_type": "code",
   "execution_count": null,
   "metadata": {},
   "outputs": [],
   "source": []
  },
  {
   "cell_type": "code",
   "execution_count": 106,
   "metadata": {},
   "outputs": [],
   "source": [
    "# train model in the training dataset\n",
    "\n",
    "# import the logistic model\n",
    "from pyspark.ml.classification import LogisticRegression\n",
    "\n",
    "# create the logistic model, configure it and call fit it to the data. \n",
    "lr = LogisticRegression(featuresCol='features', labelCol='DELENQUENT')\n",
    "model = lr.fit(df_train)"
   ]
  },
  {
   "cell_type": "code",
   "execution_count": 107,
   "metadata": {},
   "outputs": [
    {
     "data": {
      "image/png": "[encoded data removed]",
      "text/plain": [
       "<Figure size 432x288 with 1 Axes>"
      ]
     },
     "metadata": {
      "needs_background": "light"
     },
     "output_type": "display_data"
    }
   ],
   "source": [
    "plt.plot(model.summary.roc.select('FPR').collect(), model.summary.roc.select('TPR').collect())\n",
    "plt.show()"
   ]
  },
  {
   "cell_type": "code",
   "execution_count": 108,
   "metadata": {},
   "outputs": [
    {
     "data": {
      "text/plain": [
       "[1.0, 0.0]"
      ]
     },
     "execution_count": 108,
     "metadata": {},
     "output_type": "execute_result"
    }
   ],
   "source": [
    "#evaluate themodel with test\n",
    "result_test = model.evaluate(df_test)\n",
    "\n",
    "result_test.recallByLabel"
   ]
  },
  {
   "cell_type": "code",
   "execution_count": null,
   "metadata": {},
   "outputs": [],
   "source": []
  },
  {
   "cell_type": "code",
   "execution_count": 109,
   "metadata": {},
   "outputs": [
    {
     "name": "stdout",
     "output_type": "stream",
     "text": [
      "+-------+----------+---------+----------------+--------------------+--------------------+--------------------+-----------------------+----------------------+---------------------+--------------------+--------------------+--------------------+--------------------+--------------------+----------+\n",
      "|     ID|DELENQUENT|  AGE_WOE|AGE_EMPLOYED_WOE|AMT_INCOME_TOTAL_WOE| EDUCATION_LEVEL_WOE| CODE_GENDER_NUM_WOE|FLAG_OWN_REALTY_NUM_WOE|NAME_FAMILY_STATUS_WOE|NAME_HOUSING_TYPE_WOE|NAME_INCOME_TYPE_WOE| OCCUPATION_TYPE_WOE|            features|       rawPrediction|         probability|prediction|\n",
      "+-------+----------+---------+----------------+--------------------+--------------------+--------------------+-----------------------+----------------------+---------------------+--------------------+--------------------+--------------------+--------------------+--------------------+----------+\n",
      "|5008808|         0| 0.042095|       -0.213902|             0.01784|-0.04126040229521308|-0.08679484467682119|   -0.12816876027993723|    0.2174637627071392| -0.01857120602693...|-0.00321203663901...|-0.27296345564531077|[0.042095,-0.2139...|[4.46480822457549...|[0.98862400022834...|       0.0|\n",
      "|5008815|         0|-0.100226|       -0.011847|             0.01784| 0.02610510696186555| 0.15665395255552828|   -0.12816876027993723|  -0.07532458183715157| -0.01857120602693...| -0.0390425600849821| 0.09412957261112086|[-0.100226,-0.011...|[4.01913098076589...|[0.98234859732855...|       0.0|\n",
      "|5008820|         0|-0.100226|       -0.011847|            0.050554|-0.04126040229521308| 0.15665395255552828|   -0.12816876027993723|  -0.07532458183715157| -0.01857120602693...|-0.00321203663901...|-0.05928867575995...|[-0.100226,-0.011...|[4.19636849230659...|[0.98517301570377...|       0.0|\n",
      "|5008822|         0|-0.100226|       -0.011847|            0.050554|-0.04126040229521308| 0.15665395255552828|   -0.12816876027993723|  -0.07532458183715157| -0.01857120602693...|-0.00321203663901...|-0.05928867575995...|[-0.100226,-0.011...|[4.19636849230659...|[0.98517301570377...|       0.0|\n",
      "|5008824|         0|-0.100226|       -0.011847|            0.050554|-0.04126040229521308| 0.15665395255552828|   -0.12816876027993723|  -0.07532458183715157| -0.01857120602693...|-0.00321203663901...|-0.05928867575995...|[-0.100226,-0.011...|[4.19636849230659...|[0.98517301570377...|       0.0|\n",
      "|5008836|         0|  0.05123|       -0.011847|             0.01784|-0.04126040229521308| 0.15665395255552828|   -0.12816876027993723|  -0.07532458183715157| -0.01857120602693...| -0.0390425600849821|-0.05928867575995...|[0.05123,-0.01184...|[4.22280558855891...|[0.98555427376069...|       0.0|\n",
      "|5008838|         0|  0.05123|       -0.011847|             0.01784| 0.02610510696186555| 0.15665395255552828|   -0.12816876027993723|  -0.07532458183715157| -0.01857120602693...|-0.00321203663901...|-0.08088390476995357|[0.05123,-0.01184...|[4.17384630960173...|[0.98484041055023...|       0.0|\n",
      "|5008841|         0|  0.05123|       -0.011847|             0.01784| 0.02610510696186555| 0.15665395255552828|   -0.12816876027993723|  -0.07532458183715157| -0.01857120602693...|-0.00321203663901...|-0.08088390476995357|[0.05123,-0.01184...|[4.17384630960173...|[0.98484041055023...|       0.0|\n",
      "|5008854|         0|-0.100226|       -0.213902|            0.050554|-0.04126040229521308|-0.08679484467682119|   -0.12816876027993723|  -0.07532458183715157| -0.01857120602693...| -0.0390425600849821|-0.05928867575995...|[-0.100226,-0.213...|[4.49491623711873...|[0.98895767847997...|       0.0|\n",
      "|5008855|         0|-0.100226|       -0.213902|            0.050554|-0.04126040229521308|-0.08679484467682119|   -0.12816876027993723|  -0.07532458183715157| -0.01857120602693...| -0.0390425600849821|-0.05928867575995...|[-0.100226,-0.213...|[4.49491623711873...|[0.98895767847997...|       0.0|\n",
      "|5008856|         0|-0.100226|       -0.213902|            0.050554|-0.04126040229521308|-0.08679484467682119|   -0.12816876027993723|  -0.07532458183715157| -0.01857120602693...| -0.0390425600849821|-0.05928867575995...|[-0.100226,-0.213...|[4.49491623711873...|[0.98895767847997...|       0.0|\n",
      "|5008858|         0|-0.100226|       -0.213902|            0.050554|-0.04126040229521308|-0.08679484467682119|   -0.12816876027993723|  -0.07532458183715157| -0.01857120602693...| -0.0390425600849821|-0.05928867575995...|[-0.100226,-0.213...|[4.49491623711873...|[0.98895767847997...|       0.0|\n",
      "|5008865|         0|-0.100226|       -0.213902|            0.050554|-0.04126040229521308|-0.08679484467682119|   -0.12816876027993723|  -0.07532458183715157| -0.01857120602693...| -0.0390425600849821|-0.05928867575995...|[-0.100226,-0.213...|[4.49491623711873...|[0.98895767847997...|       0.0|\n",
      "|5008868|         0|-0.100226|       -0.213902|             0.01784|-0.04126040229521308|-0.08679484467682119|   -0.12816876027993723|  -0.07987892748074678| -0.01857120602693...|  -0.314363535713189|   0.202302265682001|[-0.100226,-0.213...|[4.33594955475044...|[0.98707968070069...|       0.0|\n",
      "|5008872|         0|-0.100226|       -0.213902|             0.01784|-0.04126040229521308| 0.15665395255552828|   -0.12816876027993723|  -0.07532458183715157| -0.01857120602693...|-0.00321203663901...|  0.2672476848403552|[-0.100226,-0.213...|[4.04989695936454...|[0.98287423234157...|       0.0|\n",
      "|5008875|         0|  0.05123|       -0.011847|            0.050554| 0.02610510696186555|-0.08679484467682119|   -0.12816876027993723|  -0.07532458183715157| -0.01857120602693...|-0.00321203663901...|-0.08088390476995357|[0.05123,-0.01184...|[4.24026476978962...|[0.98580074525516...|       0.0|\n",
      "|5008881|         0|  0.05123|       -0.011847|            0.050554| 0.02610510696186555|-0.08679484467682119|   -0.12816876027993723|  -0.07532458183715157| -0.01857120602693...|-0.00321203663901...|-0.08088390476995357|[0.05123,-0.01184...|[4.24026476978962...|[0.98580074525516...|       0.0|\n",
      "|5008889|         0|-0.100226|       -0.011847|             0.01784| 0.02610510696186555|-0.08679484467682119|   -0.12816876027993723|   -0.1386815939424137| -0.19731695709610228|-0.00321203663901...|   0.202302265682001|[-0.100226,-0.011...|[4.22031140579309...|[0.98551872092462...|       0.0|\n",
      "|5008890|         0|-0.100226|       -0.011847|             0.01784| 0.02610510696186555|-0.08679484467682119|   -0.12816876027993723|   -0.1386815939424137| -0.19731695709610228|-0.00321203663901...|   0.202302265682001|[-0.100226,-0.011...|[4.22031140579309...|[0.98551872092462...|       0.0|\n",
      "|5008894|         0|-0.100226|       -0.213902|             0.01784|-0.04126040229521308|-0.08679484467682119|   -0.12816876027993723|    0.2174637627071392| -0.19731695709610228|-0.00321203663901...|-0.05928867575995...|[-0.100226,-0.213...|[4.41451068541826...|[0.98804419726069...|       0.0|\n",
      "+-------+----------+---------+----------------+--------------------+--------------------+--------------------+-----------------------+----------------------+---------------------+--------------------+--------------------+--------------------+--------------------+--------------------+----------+\n",
      "only showing top 20 rows\n",
      "\n"
     ]
    }
   ],
   "source": [
    "result_test.predictions.show()"
   ]
  },
  {
   "cell_type": "code",
   "execution_count": 110,
   "metadata": {},
   "outputs": [
    {
     "data": {
      "text/plain": [
       "171"
      ]
     },
     "execution_count": 110,
     "metadata": {},
     "output_type": "execute_result"
    }
   ],
   "source": [
    "#see if the data is there in predicted \n",
    "result_test.predictions.select('DELENQUENT','probability').filter(col('DELENQUENT')==1).orderBy(col('probability')).count()"
   ]
  },
  {
   "cell_type": "code",
   "execution_count": 111,
   "metadata": {},
   "outputs": [],
   "source": [
    "thresh = result_test.predictions.select('DELENQUENT','probability')"
   ]
  },
  {
   "cell_type": "code",
   "execution_count": 112,
   "metadata": {},
   "outputs": [
    {
     "name": "stdout",
     "output_type": "stream",
     "text": [
      "+----------+--------------------+\n",
      "|DELENQUENT|         probability|\n",
      "+----------+--------------------+\n",
      "|         0|[0.98862400022834...|\n",
      "|         0|[0.98234859732855...|\n",
      "|         0|[0.98517301570377...|\n",
      "|         0|[0.98517301570377...|\n",
      "|         0|[0.98517301570377...|\n",
      "|         0|[0.98555427376069...|\n",
      "|         0|[0.98484041055023...|\n",
      "|         0|[0.98484041055023...|\n",
      "|         0|[0.98895767847997...|\n",
      "|         0|[0.98895767847997...|\n",
      "|         0|[0.98895767847997...|\n",
      "|         0|[0.98895767847997...|\n",
      "|         0|[0.98895767847997...|\n",
      "|         0|[0.98707968070069...|\n",
      "|         0|[0.98287423234157...|\n",
      "|         0|[0.98580074525516...|\n",
      "|         0|[0.98580074525516...|\n",
      "|         0|[0.98551872092462...|\n",
      "|         0|[0.98551872092462...|\n",
      "|         0|[0.98804419726069...|\n",
      "+----------+--------------------+\n",
      "only showing top 20 rows\n",
      "\n"
     ]
    }
   ],
   "source": [
    "thresh.show()"
   ]
  },
  {
   "cell_type": "code",
   "execution_count": 116,
   "metadata": {},
   "outputs": [
    {
     "data": {
      "text/html": [
       "<div>\n",
       "<style scoped>\n",
       "    .dataframe tbody tr th:only-of-type {\n",
       "        vertical-align: middle;\n",
       "    }\n",
       "\n",
       "    .dataframe tbody tr th {\n",
       "        vertical-align: top;\n",
       "    }\n",
       "\n",
       "    .dataframe thead th {\n",
       "        text-align: right;\n",
       "    }\n",
       "</style>\n",
       "<table border=\"1\" class=\"dataframe\">\n",
       "  <thead>\n",
       "    <tr style=\"text-align: right;\">\n",
       "      <th></th>\n",
       "      <th>ID</th>\n",
       "      <th>DELENQUENT</th>\n",
       "      <th>AGE_WOE</th>\n",
       "      <th>AGE_EMPLOYED_WOE</th>\n",
       "      <th>AMT_INCOME_TOTAL_WOE</th>\n",
       "      <th>EDUCATION_LEVEL_WOE</th>\n",
       "      <th>CODE_GENDER_NUM_WOE</th>\n",
       "      <th>FLAG_OWN_REALTY_NUM_WOE</th>\n",
       "      <th>NAME_FAMILY_STATUS_WOE</th>\n",
       "      <th>NAME_HOUSING_TYPE_WOE</th>\n",
       "      <th>NAME_INCOME_TYPE_WOE</th>\n",
       "      <th>OCCUPATION_TYPE_WOE</th>\n",
       "      <th>features</th>\n",
       "      <th>rawPrediction</th>\n",
       "      <th>probability</th>\n",
       "      <th>prediction</th>\n",
       "    </tr>\n",
       "  </thead>\n",
       "  <tbody>\n",
       "    <tr>\n",
       "      <th>0</th>\n",
       "      <td>5008808</td>\n",
       "      <td>0</td>\n",
       "      <td>0.042095</td>\n",
       "      <td>-0.213902</td>\n",
       "      <td>0.017840</td>\n",
       "      <td>-0.041260</td>\n",
       "      <td>-0.086795</td>\n",
       "      <td>-0.128169</td>\n",
       "      <td>0.217464</td>\n",
       "      <td>-0.018571</td>\n",
       "      <td>-0.003212</td>\n",
       "      <td>-0.272963</td>\n",
       "      <td>[0.042095, -0.213902, 0.01784, -0.041260402295...</td>\n",
       "      <td>[4.4648082245754965, -4.4648082245754965]</td>\n",
       "      <td>[0.9886240002283415, 0.011375999771658403]</td>\n",
       "      <td>0.0</td>\n",
       "    </tr>\n",
       "    <tr>\n",
       "      <th>1</th>\n",
       "      <td>5008815</td>\n",
       "      <td>0</td>\n",
       "      <td>-0.100226</td>\n",
       "      <td>-0.011847</td>\n",
       "      <td>0.017840</td>\n",
       "      <td>0.026105</td>\n",
       "      <td>0.156654</td>\n",
       "      <td>-0.128169</td>\n",
       "      <td>-0.075325</td>\n",
       "      <td>-0.018571</td>\n",
       "      <td>-0.039043</td>\n",
       "      <td>0.094130</td>\n",
       "      <td>[-0.100226, -0.011847, 0.01784, 0.026105106961...</td>\n",
       "      <td>[4.019130980765891, -4.019130980765891]</td>\n",
       "      <td>[0.9823485973285504, 0.017651402671449566]</td>\n",
       "      <td>0.0</td>\n",
       "    </tr>\n",
       "    <tr>\n",
       "      <th>2</th>\n",
       "      <td>5008820</td>\n",
       "      <td>0</td>\n",
       "      <td>-0.100226</td>\n",
       "      <td>-0.011847</td>\n",
       "      <td>0.050554</td>\n",
       "      <td>-0.041260</td>\n",
       "      <td>0.156654</td>\n",
       "      <td>-0.128169</td>\n",
       "      <td>-0.075325</td>\n",
       "      <td>-0.018571</td>\n",
       "      <td>-0.003212</td>\n",
       "      <td>-0.059289</td>\n",
       "      <td>[-0.100226, -0.011847, 0.050554, -0.0412604022...</td>\n",
       "      <td>[4.196368492306596, -4.196368492306596]</td>\n",
       "      <td>[0.985173015703778, 0.014826984296221918]</td>\n",
       "      <td>0.0</td>\n",
       "    </tr>\n",
       "    <tr>\n",
       "      <th>3</th>\n",
       "      <td>5008822</td>\n",
       "      <td>0</td>\n",
       "      <td>-0.100226</td>\n",
       "      <td>-0.011847</td>\n",
       "      <td>0.050554</td>\n",
       "      <td>-0.041260</td>\n",
       "      <td>0.156654</td>\n",
       "      <td>-0.128169</td>\n",
       "      <td>-0.075325</td>\n",
       "      <td>-0.018571</td>\n",
       "      <td>-0.003212</td>\n",
       "      <td>-0.059289</td>\n",
       "      <td>[-0.100226, -0.011847, 0.050554, -0.0412604022...</td>\n",
       "      <td>[4.196368492306596, -4.196368492306596]</td>\n",
       "      <td>[0.985173015703778, 0.014826984296221918]</td>\n",
       "      <td>0.0</td>\n",
       "    </tr>\n",
       "    <tr>\n",
       "      <th>4</th>\n",
       "      <td>5008824</td>\n",
       "      <td>0</td>\n",
       "      <td>-0.100226</td>\n",
       "      <td>-0.011847</td>\n",
       "      <td>0.050554</td>\n",
       "      <td>-0.041260</td>\n",
       "      <td>0.156654</td>\n",
       "      <td>-0.128169</td>\n",
       "      <td>-0.075325</td>\n",
       "      <td>-0.018571</td>\n",
       "      <td>-0.003212</td>\n",
       "      <td>-0.059289</td>\n",
       "      <td>[-0.100226, -0.011847, 0.050554, -0.0412604022...</td>\n",
       "      <td>[4.196368492306596, -4.196368492306596]</td>\n",
       "      <td>[0.985173015703778, 0.014826984296221918]</td>\n",
       "      <td>0.0</td>\n",
       "    </tr>\n",
       "    <tr>\n",
       "      <th>...</th>\n",
       "      <td>...</td>\n",
       "      <td>...</td>\n",
       "      <td>...</td>\n",
       "      <td>...</td>\n",
       "      <td>...</td>\n",
       "      <td>...</td>\n",
       "      <td>...</td>\n",
       "      <td>...</td>\n",
       "      <td>...</td>\n",
       "      <td>...</td>\n",
       "      <td>...</td>\n",
       "      <td>...</td>\n",
       "      <td>...</td>\n",
       "      <td>...</td>\n",
       "      <td>...</td>\n",
       "      <td>...</td>\n",
       "    </tr>\n",
       "    <tr>\n",
       "      <th>11019</th>\n",
       "      <td>5145690</td>\n",
       "      <td>1</td>\n",
       "      <td>0.042095</td>\n",
       "      <td>0.186429</td>\n",
       "      <td>0.017840</td>\n",
       "      <td>0.026105</td>\n",
       "      <td>-0.086795</td>\n",
       "      <td>-0.128169</td>\n",
       "      <td>-0.075325</td>\n",
       "      <td>-0.018571</td>\n",
       "      <td>0.227961</td>\n",
       "      <td>0.014149</td>\n",
       "      <td>[0.042095, 0.186429, 0.01784, 0.02610510696186...</td>\n",
       "      <td>[3.939916312877458, -3.939916312877458]</td>\n",
       "      <td>[0.9809212365630073, 0.01907876343699253]</td>\n",
       "      <td>0.0</td>\n",
       "    </tr>\n",
       "    <tr>\n",
       "      <th>11020</th>\n",
       "      <td>5145846</td>\n",
       "      <td>1</td>\n",
       "      <td>-0.100226</td>\n",
       "      <td>-0.011847</td>\n",
       "      <td>0.017840</td>\n",
       "      <td>0.026105</td>\n",
       "      <td>-0.086795</td>\n",
       "      <td>-0.128169</td>\n",
       "      <td>-0.075325</td>\n",
       "      <td>-0.018571</td>\n",
       "      <td>-0.314364</td>\n",
       "      <td>-0.080884</td>\n",
       "      <td>[-0.100226, -0.011847, 0.01784, 0.026105106961...</td>\n",
       "      <td>[4.413797243707891, -4.413797243707891]</td>\n",
       "      <td>[0.9880357665374205, 0.01196423346257958]</td>\n",
       "      <td>0.0</td>\n",
       "    </tr>\n",
       "    <tr>\n",
       "      <th>11021</th>\n",
       "      <td>5146078</td>\n",
       "      <td>1</td>\n",
       "      <td>0.051230</td>\n",
       "      <td>-0.011847</td>\n",
       "      <td>0.050554</td>\n",
       "      <td>-0.041260</td>\n",
       "      <td>-0.086795</td>\n",
       "      <td>-0.128169</td>\n",
       "      <td>0.217464</td>\n",
       "      <td>-0.018571</td>\n",
       "      <td>-0.039043</td>\n",
       "      <td>-0.272963</td>\n",
       "      <td>[0.05123, -0.011847, 0.050554, -0.041260402295...</td>\n",
       "      <td>[4.252771015707972, -4.252771015707972]</td>\n",
       "      <td>[0.985974743728953, 0.014025256271046987]</td>\n",
       "      <td>0.0</td>\n",
       "    </tr>\n",
       "    <tr>\n",
       "      <th>11022</th>\n",
       "      <td>5148934</td>\n",
       "      <td>1</td>\n",
       "      <td>-0.100226</td>\n",
       "      <td>-0.011847</td>\n",
       "      <td>0.050554</td>\n",
       "      <td>-0.041260</td>\n",
       "      <td>0.156654</td>\n",
       "      <td>0.221710</td>\n",
       "      <td>-0.075325</td>\n",
       "      <td>0.727436</td>\n",
       "      <td>-0.039043</td>\n",
       "      <td>0.267248</td>\n",
       "      <td>[-0.100226, -0.011847, 0.050554, -0.0412604022...</td>\n",
       "      <td>[2.9326841694763077, -2.9326841694763077]</td>\n",
       "      <td>[0.9494386838289063, 0.050561316171093836]</td>\n",
       "      <td>0.0</td>\n",
       "    </tr>\n",
       "    <tr>\n",
       "      <th>11023</th>\n",
       "      <td>5150337</td>\n",
       "      <td>1</td>\n",
       "      <td>0.051230</td>\n",
       "      <td>-0.011847</td>\n",
       "      <td>0.050554</td>\n",
       "      <td>-0.041260</td>\n",
       "      <td>0.156654</td>\n",
       "      <td>-0.128169</td>\n",
       "      <td>0.217464</td>\n",
       "      <td>-0.197317</td>\n",
       "      <td>-0.039043</td>\n",
       "      <td>-0.059289</td>\n",
       "      <td>[0.05123, -0.011847, 0.050554, -0.041260402295...</td>\n",
       "      <td>[4.059854008959577, -4.059854008959577]</td>\n",
       "      <td>[0.9830410307918599, 0.016958969208139985]</td>\n",
       "      <td>0.0</td>\n",
       "    </tr>\n",
       "  </tbody>\n",
       "</table>\n",
       "<p>11024 rows × 16 columns</p>\n",
       "</div>"
      ],
      "text/plain": [
       "            ID  DELENQUENT   AGE_WOE  AGE_EMPLOYED_WOE  AMT_INCOME_TOTAL_WOE  \\\n",
       "0      5008808           0  0.042095         -0.213902              0.017840   \n",
       "1      5008815           0 -0.100226         -0.011847              0.017840   \n",
       "2      5008820           0 -0.100226         -0.011847              0.050554   \n",
       "3      5008822           0 -0.100226         -0.011847              0.050554   \n",
       "4      5008824           0 -0.100226         -0.011847              0.050554   \n",
       "...        ...         ...       ...               ...                   ...   \n",
       "11019  5145690           1  0.042095          0.186429              0.017840   \n",
       "11020  5145846           1 -0.100226         -0.011847              0.017840   \n",
       "11021  5146078           1  0.051230         -0.011847              0.050554   \n",
       "11022  5148934           1 -0.100226         -0.011847              0.050554   \n",
       "11023  5150337           1  0.051230         -0.011847              0.050554   \n",
       "\n",
       "       EDUCATION_LEVEL_WOE  CODE_GENDER_NUM_WOE  FLAG_OWN_REALTY_NUM_WOE  \\\n",
       "0                -0.041260            -0.086795                -0.128169   \n",
       "1                 0.026105             0.156654                -0.128169   \n",
       "2                -0.041260             0.156654                -0.128169   \n",
       "3                -0.041260             0.156654                -0.128169   \n",
       "4                -0.041260             0.156654                -0.128169   \n",
       "...                    ...                  ...                      ...   \n",
       "11019             0.026105            -0.086795                -0.128169   \n",
       "11020             0.026105            -0.086795                -0.128169   \n",
       "11021            -0.041260            -0.086795                -0.128169   \n",
       "11022            -0.041260             0.156654                 0.221710   \n",
       "11023            -0.041260             0.156654                -0.128169   \n",
       "\n",
       "       NAME_FAMILY_STATUS_WOE  NAME_HOUSING_TYPE_WOE  NAME_INCOME_TYPE_WOE  \\\n",
       "0                    0.217464              -0.018571             -0.003212   \n",
       "1                   -0.075325              -0.018571             -0.039043   \n",
       "2                   -0.075325              -0.018571             -0.003212   \n",
       "3                   -0.075325              -0.018571             -0.003212   \n",
       "4                   -0.075325              -0.018571             -0.003212   \n",
       "...                       ...                    ...                   ...   \n",
       "11019               -0.075325              -0.018571              0.227961   \n",
       "11020               -0.075325              -0.018571             -0.314364   \n",
       "11021                0.217464              -0.018571             -0.039043   \n",
       "11022               -0.075325               0.727436             -0.039043   \n",
       "11023                0.217464              -0.197317             -0.039043   \n",
       "\n",
       "       OCCUPATION_TYPE_WOE                                           features  \\\n",
       "0                -0.272963  [0.042095, -0.213902, 0.01784, -0.041260402295...   \n",
       "1                 0.094130  [-0.100226, -0.011847, 0.01784, 0.026105106961...   \n",
       "2                -0.059289  [-0.100226, -0.011847, 0.050554, -0.0412604022...   \n",
       "3                -0.059289  [-0.100226, -0.011847, 0.050554, -0.0412604022...   \n",
       "4                -0.059289  [-0.100226, -0.011847, 0.050554, -0.0412604022...   \n",
       "...                    ...                                                ...   \n",
       "11019             0.014149  [0.042095, 0.186429, 0.01784, 0.02610510696186...   \n",
       "11020            -0.080884  [-0.100226, -0.011847, 0.01784, 0.026105106961...   \n",
       "11021            -0.272963  [0.05123, -0.011847, 0.050554, -0.041260402295...   \n",
       "11022             0.267248  [-0.100226, -0.011847, 0.050554, -0.0412604022...   \n",
       "11023            -0.059289  [0.05123, -0.011847, 0.050554, -0.041260402295...   \n",
       "\n",
       "                                   rawPrediction  \\\n",
       "0      [4.4648082245754965, -4.4648082245754965]   \n",
       "1        [4.019130980765891, -4.019130980765891]   \n",
       "2        [4.196368492306596, -4.196368492306596]   \n",
       "3        [4.196368492306596, -4.196368492306596]   \n",
       "4        [4.196368492306596, -4.196368492306596]   \n",
       "...                                          ...   \n",
       "11019    [3.939916312877458, -3.939916312877458]   \n",
       "11020    [4.413797243707891, -4.413797243707891]   \n",
       "11021    [4.252771015707972, -4.252771015707972]   \n",
       "11022  [2.9326841694763077, -2.9326841694763077]   \n",
       "11023    [4.059854008959577, -4.059854008959577]   \n",
       "\n",
       "                                      probability  prediction  \n",
       "0      [0.9886240002283415, 0.011375999771658403]         0.0  \n",
       "1      [0.9823485973285504, 0.017651402671449566]         0.0  \n",
       "2       [0.985173015703778, 0.014826984296221918]         0.0  \n",
       "3       [0.985173015703778, 0.014826984296221918]         0.0  \n",
       "4       [0.985173015703778, 0.014826984296221918]         0.0  \n",
       "...                                           ...         ...  \n",
       "11019   [0.9809212365630073, 0.01907876343699253]         0.0  \n",
       "11020   [0.9880357665374205, 0.01196423346257958]         0.0  \n",
       "11021   [0.985974743728953, 0.014025256271046987]         0.0  \n",
       "11022  [0.9494386838289063, 0.050561316171093836]         0.0  \n",
       "11023  [0.9830410307918599, 0.016958969208139985]         0.0  \n",
       "\n",
       "[11024 rows x 16 columns]"
      ]
     },
     "execution_count": 116,
     "metadata": {},
     "output_type": "execute_result"
    }
   ],
   "source": [
    " \n",
    "result_test.predictions.coalesce(1).toPandas()"
   ]
  },
  {
   "cell_type": "code",
   "execution_count": 117,
   "metadata": {},
   "outputs": [],
   "source": [
    "#save to csv\n",
    " \n",
    "result_test.predictions.coalesce(1).toPandas().to_csv('Predicated.csv')"
   ]
  },
  {
   "cell_type": "code",
   "execution_count": 118,
   "metadata": {},
   "outputs": [],
   "source": [
    "from pyspark.sql.functions import udf, when\n",
    "from pyspark.sql.types import FloatType\n",
    "\n",
    "element_extrac=udf(lambda v:float(v[1]),FloatType())"
   ]
  },
  {
   "cell_type": "code",
   "execution_count": 119,
   "metadata": {},
   "outputs": [],
   "source": [
    "result_list = []       # to store the values of precision and recall\n",
    "\n",
    "\n",
    "\n",
    "threshold_list = [0.1,0.2,0.3,0.4,0.5,0.6,0.7,0.8,0.9]"
   ]
  },
  {
   "cell_type": "code",
   "execution_count": 120,
   "metadata": {},
   "outputs": [],
   "source": [
    "for i in threshold_list:\n",
    "    test_pred = thresh.withColumn('label_p',when(element_extrac(thresh[\"probability\"]) >= i, 1).otherwise(0))\n",
    "    TP = test_pred.filter(\"DELENQUENT==1 AND label_p==1\").count()\n",
    "    FP = test_pred.filter(\"DELENQUENT==0 AND label_p==1\").count()\n",
    "    FN = test_pred.filter(\"DELENQUENT==1 AND label_p==0\").count()\n",
    "    TN = test_pred.filter(\"DELENQUENT==0 AND label_p==0\").count()  \n",
    "    if TP == 0:\n",
    "        recall = 0\n",
    "        presession = 0\n",
    "    else:\n",
    "        recall = (TP/(TP+FN))\n",
    "        presession = ((TP/(TP+FP)))\n",
    "    list1 = []\n",
    "    list1.append(i)\n",
    "    list1.append(presession)\n",
    "    list1.append(recall)\n",
    "    list1.append(TP)\n",
    "    list1.append(TN)\n",
    "    list1.append(FP)\n",
    "    list1.append(FN)\n",
    "    result_list.append(list1)"
   ]
  },
  {
   "cell_type": "code",
   "execution_count": 121,
   "metadata": {},
   "outputs": [],
   "source": [
    "# Create a panadas datafarme for the list of the output. \n",
    "\n",
    "# create a schema for the dataframes \n",
    "from pyspark.sql.types import *\n",
    "\n",
    "schema = StructType([StructField('threshold', DoubleType(), True),\n",
    "                      StructField('precision', IntegerType(), True),\n",
    "                      StructField('recall', IntegerType(), True),\n",
    "                      StructField('TP', IntegerType(), True),\n",
    "                      StructField('TN', IntegerType(), True),\n",
    "                      StructField('FP', IntegerType(), True),\n",
    "                      StructField('FN', IntegerType(), True)])\n",
    "\n",
    "\n",
    "# create a rdd from the list\n",
    "rdd = spark.sparkContext.parallelize(result_list)\n",
    "\n"
   ]
  },
  {
   "cell_type": "code",
   "execution_count": 122,
   "metadata": {},
   "outputs": [
    {
     "data": {
      "text/plain": [
       "[[0.1, 0, 0, 0, 10850, 3, 171],\n",
       " [0.2, 0, 0, 0, 10853, 0, 171],\n",
       " [0.3, 0, 0, 0, 10853, 0, 171],\n",
       " [0.4, 0, 0, 0, 10853, 0, 171],\n",
       " [0.5, 0, 0, 0, 10853, 0, 171],\n",
       " [0.6, 0, 0, 0, 10853, 0, 171],\n",
       " [0.7, 0, 0, 0, 10853, 0, 171],\n",
       " [0.8, 0, 0, 0, 10853, 0, 171],\n",
       " [0.9, 0, 0, 0, 10853, 0, 171]]"
      ]
     },
     "execution_count": 122,
     "metadata": {},
     "output_type": "execute_result"
    }
   ],
   "source": [
    "rdd.collect()"
   ]
  },
  {
   "cell_type": "code",
   "execution_count": 123,
   "metadata": {},
   "outputs": [
    {
     "data": {
      "text/plain": [
       "StructType(List(StructField(threshold,DoubleType,true),StructField(precision,IntegerType,true),StructField(recall,IntegerType,true),StructField(TP,IntegerType,true),StructField(TN,IntegerType,true),StructField(FP,IntegerType,true),StructField(FN,IntegerType,true)))"
      ]
     },
     "execution_count": 123,
     "metadata": {},
     "output_type": "execute_result"
    }
   ],
   "source": [
    "schema"
   ]
  },
  {
   "cell_type": "code",
   "execution_count": 124,
   "metadata": {},
   "outputs": [],
   "source": [
    "\n",
    "# create a spark dataframe form rdd\n",
    "thresh_df = spark.createDataFrame(rdd,schema)\n",
    "\n"
   ]
  },
  {
   "cell_type": "code",
   "execution_count": 125,
   "metadata": {},
   "outputs": [
    {
     "name": "stdout",
     "output_type": "stream",
     "text": [
      "+---------+---------+------+---+-----+---+---+\n",
      "|threshold|precision|recall| TP|   TN| FP| FN|\n",
      "+---------+---------+------+---+-----+---+---+\n",
      "|      0.1|        0|     0|  0|10850|  3|171|\n",
      "|      0.2|        0|     0|  0|10853|  0|171|\n",
      "|      0.3|        0|     0|  0|10853|  0|171|\n",
      "|      0.4|        0|     0|  0|10853|  0|171|\n",
      "|      0.5|        0|     0|  0|10853|  0|171|\n",
      "|      0.6|        0|     0|  0|10853|  0|171|\n",
      "|      0.7|        0|     0|  0|10853|  0|171|\n",
      "|      0.8|        0|     0|  0|10853|  0|171|\n",
      "|      0.9|        0|     0|  0|10853|  0|171|\n",
      "+---------+---------+------+---+-----+---+---+\n",
      "\n"
     ]
    }
   ],
   "source": [
    "thresh_df.show()"
   ]
  },
  {
   "cell_type": "code",
   "execution_count": 126,
   "metadata": {},
   "outputs": [],
   "source": [
    "# create pandas dataframe form the spark dataframe \n",
    "pandas_df = thresh_df.toPandas()"
   ]
  },
  {
   "cell_type": "code",
   "execution_count": 127,
   "metadata": {},
   "outputs": [
    {
     "name": "stdout",
     "output_type": "stream",
     "text": [
      "+---------+---------+------+---+-----+---+---+\n",
      "|threshold|precision|recall| TP|   TN| FP| FN|\n",
      "+---------+---------+------+---+-----+---+---+\n",
      "|      0.1|        0|     0|  0|10850|  3|171|\n",
      "|      0.2|        0|     0|  0|10853|  0|171|\n",
      "|      0.3|        0|     0|  0|10853|  0|171|\n",
      "|      0.4|        0|     0|  0|10853|  0|171|\n",
      "|      0.5|        0|     0|  0|10853|  0|171|\n",
      "|      0.6|        0|     0|  0|10853|  0|171|\n",
      "|      0.7|        0|     0|  0|10853|  0|171|\n",
      "|      0.8|        0|     0|  0|10853|  0|171|\n",
      "|      0.9|        0|     0|  0|10853|  0|171|\n",
      "+---------+---------+------+---+-----+---+---+\n",
      "\n"
     ]
    }
   ],
   "source": [
    "thresh_df.show()"
   ]
  },
  {
   "cell_type": "code",
   "execution_count": 128,
   "metadata": {},
   "outputs": [
    {
     "data": {
      "image/png": "[encoded data removed]",
      "text/plain": [
       "<Figure size 432x288 with 1 Axes>"
      ]
     },
     "metadata": {
      "needs_background": "light"
     },
     "output_type": "display_data"
    }
   ],
   "source": [
    "# import matplot lib \n",
    "import matplotlib.pyplot as plt\n",
    "\n",
    "# create the plot\n",
    "pandas_df.plot.line(x='threshold', y=['precision','recall'])\n",
    "\n",
    "# display the plot\n",
    "plt.show()"
   ]
  },
  {
   "cell_type": "markdown",
   "metadata": {},
   "source": [
    "## seems need to set the threshold to correctly identify the bad custom"
   ]
  },
  {
   "cell_type": "code",
   "execution_count": null,
   "metadata": {},
   "outputs": [],
   "source": []
  }
 ],
 "metadata": {
  "kernelspec": {
   "display_name": "Python 3",
   "language": "python",
   "name": "python3"
  },
  "language_info": {
   "codemirror_mode": {
    "name": "ipython",
    "version": 3
   },
   "file_extension": ".py",
   "mimetype": "text/x-python",
   "name": "python",
   "nbconvert_exporter": "python",
   "pygments_lexer": "ipython3",
   "version": "3.7.9"
  }
 },
 "nbformat": 4,
 "nbformat_minor": 4
}
